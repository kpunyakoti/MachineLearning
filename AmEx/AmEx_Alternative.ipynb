{
 "cells": [
  {
   "cell_type": "code",
   "execution_count": 80,
   "metadata": {},
   "outputs": [],
   "source": [
    "import pandas as pd\n",
    "import numpy as np\n",
    "\n",
    "import scipy as sp\n",
    "import sklearn as sk\n",
    "from scipy import stats\n",
    "from scipy.stats import norm, skew\n",
    "from scipy.special import boxcox1p\n",
    "\n",
    "import random\n",
    "import time\n",
    "\n",
    "import warnings\n",
    "warnings.filterwarnings('ignore')\n",
    "from subprocess import check_output"
   ]
  },
  {
   "cell_type": "code",
   "execution_count": 81,
   "metadata": {},
   "outputs": [],
   "source": [
    "#Data visualization\n",
    "import matplotlib as mpl\n",
    "import matplotlib.pyplot as plt\n",
    "import matplotlib.pylab as pylab\n",
    "import seaborn as sns\n",
    "\n",
    "#set visual parameters\n",
    "%matplotlib inline\n",
    "mpl.style.use('ggplot')\n",
    "sns.set_style('white')\n",
    "pylab.rcParams['figure.figsize'] = 14,7"
   ]
  },
  {
   "cell_type": "code",
   "execution_count": 82,
   "metadata": {},
   "outputs": [],
   "source": [
    "#common model algorithms\n",
    "#common model algorithms\n",
    "from sklearn import svm, tree, linear_model, neighbors, naive_bayes\n",
    "from sklearn.svm import SVC as svc\n",
    "from sklearn.naive_bayes import BernoulliNB, GaussianNB\n",
    "from xgboost import XGBClassifier\n",
    "import tensorflow as tf\n",
    "#from tensorflow import estimator\n",
    "from sklearn.metrics import roc_curve, auc\n",
    "\n",
    "#common model help tools\n",
    "from sklearn import feature_selection\n",
    "from sklearn import model_selection\n",
    "from sklearn import metrics\n",
    "\n",
    "\n",
    "from sklearn.preprocessing import OneHotEncoder, LabelEncoder\n",
    "from sklearn.preprocessing import RobustScaler\n",
    "from sklearn.pipeline import make_pipeline\n",
    "from xgboost import plot_importance\n",
    "\n",
    "from sklearn.model_selection import GridSearchCV\n",
    "from sklearn.model_selection import KFold, StratifiedKFold, cross_val_score"
   ]
  },
  {
   "cell_type": "code",
   "execution_count": 83,
   "metadata": {},
   "outputs": [],
   "source": [
    "#import data\n",
    "PATH1 = \"C:/Users/kpunyakoti/Desktop/Data Science/Projects/AmEx Hack/Source/\"   #where you read the files from\n",
    "PATH2 = \"C:/Users/kpunyakoti/Desktop/Data Science/Projects/AmEx Hack/Submissions/\"   #where you export the files to\n",
    "\n",
    "train = pd.read_csv(f'{PATH1}train.csv')\n",
    "test = pd.read_csv(f'{PATH1}test.csv')\n",
    "#Save the 'Id' column\n",
    "train_ID = train['session_id']\n",
    "test_ID = test['session_id']\n",
    "\n",
    "#Now drop the  'Id' colum since it's unnecessary for  the prediction process.\n",
    "train.drop(\"session_id\", axis = 1, inplace = True)\n",
    "test.drop(\"session_id\", axis = 1, inplace = True)"
   ]
  },
  {
   "cell_type": "code",
   "execution_count": 84,
   "metadata": {},
   "outputs": [],
   "source": [
    "#concatenate train data and test data\n",
    "ntrain = train.shape[0]\n",
    "ntest = test.shape[0]"
   ]
  },
  {
   "cell_type": "markdown",
   "metadata": {},
   "source": [
    "Target Variable\n",
    "--"
   ]
  },
  {
   "cell_type": "markdown",
   "metadata": {},
   "source": [
    "Treating outliers \n",
    "-- \n",
    "[always treat outliers first before treaing nulls]"
   ]
  },
  {
   "cell_type": "markdown",
   "metadata": {},
   "source": [
    "CONCATENATE DATA"
   ]
  },
  {
   "cell_type": "code",
   "execution_count": 85,
   "metadata": {},
   "outputs": [
    {
     "name": "stdout",
     "output_type": "stream",
     "text": [
      "all_data size is : (592149, 13)\n"
     ]
    }
   ],
   "source": [
    "ntrain = train.shape[0]\n",
    "ntest = test.shape[0]\n",
    "y_train = train.is_click.values\n",
    "all_data = pd.concat((train, test)).reset_index(drop=True)\n",
    "all_data.drop(['is_click'], axis=1, inplace=True)\n",
    "print(\"all_data size is : {}\".format(all_data.shape))"
   ]
  },
  {
   "cell_type": "code",
   "execution_count": 86,
   "metadata": {},
   "outputs": [],
   "source": [
    "all_data['DateTime'] = pd.to_datetime(all_data['DateTime'])\n",
    "all_data['Hour'] = all_data['DateTime'].dt.hour\n",
    "all_data['Date'] = all_data['DateTime'].dt.day\n",
    "all_data['Day'] = all_data['DateTime'].dt.weekday"
   ]
  },
  {
   "cell_type": "markdown",
   "metadata": {},
   "source": [
    "Handling Missing Data\n",
    "--"
   ]
  },
  {
   "cell_type": "code",
   "execution_count": 9,
   "metadata": {},
   "outputs": [
    {
     "data": {
      "text/html": [
       "<div>\n",
       "<style scoped>\n",
       "    .dataframe tbody tr th:only-of-type {\n",
       "        vertical-align: middle;\n",
       "    }\n",
       "\n",
       "    .dataframe tbody tr th {\n",
       "        vertical-align: top;\n",
       "    }\n",
       "\n",
       "    .dataframe thead th {\n",
       "        text-align: right;\n",
       "    }\n",
       "</style>\n",
       "<table border=\"1\" class=\"dataframe\">\n",
       "  <thead>\n",
       "    <tr style=\"text-align: right;\">\n",
       "      <th></th>\n",
       "      <th>Missing Ratio</th>\n",
       "    </tr>\n",
       "  </thead>\n",
       "  <tbody>\n",
       "    <tr>\n",
       "      <th>product_category_2</th>\n",
       "      <td>74.647597</td>\n",
       "    </tr>\n",
       "    <tr>\n",
       "      <th>city_development_index</th>\n",
       "      <td>26.975981</td>\n",
       "    </tr>\n",
       "    <tr>\n",
       "      <th>user_group_id</th>\n",
       "      <td>4.040706</td>\n",
       "    </tr>\n",
       "    <tr>\n",
       "      <th>user_depth</th>\n",
       "      <td>4.040706</td>\n",
       "    </tr>\n",
       "    <tr>\n",
       "      <th>gender</th>\n",
       "      <td>4.040706</td>\n",
       "    </tr>\n",
       "    <tr>\n",
       "      <th>age_level</th>\n",
       "      <td>4.040706</td>\n",
       "    </tr>\n",
       "  </tbody>\n",
       "</table>\n",
       "</div>"
      ],
      "text/plain": [
       "                        Missing Ratio\n",
       "product_category_2          74.647597\n",
       "city_development_index      26.975981\n",
       "user_group_id                4.040706\n",
       "user_depth                   4.040706\n",
       "gender                       4.040706\n",
       "age_level                    4.040706"
      ]
     },
     "execution_count": 9,
     "metadata": {},
     "output_type": "execute_result"
    }
   ],
   "source": [
    "all_data_na = (all_data.isnull().sum() / len(all_data)) * 100\n",
    "all_data_na = all_data_na.drop(all_data_na[all_data_na == 0].index).sort_values(ascending=False)[:30]\n",
    "missing_data = pd.DataFrame({'Missing Ratio' :all_data_na})\n",
    "missing_data.head(10)"
   ]
  },
  {
   "cell_type": "code",
   "execution_count": 10,
   "metadata": {},
   "outputs": [
    {
     "data": {
      "text/plain": [
       "Text(0.5,1,'Percent missing data by feature')"
      ]
     },
     "execution_count": 10,
     "metadata": {},
     "output_type": "execute_result"
    },
    {
     "data": {
      "image/png": "[encoded data removed]",
      "text/plain": [
       "<Figure size 432x288 with 1 Axes>"
      ]
     },
     "metadata": {},
     "output_type": "display_data"
    }
   ],
   "source": [
    "#plot missing data\n",
    "plt.xticks(rotation='90')\n",
    "sns.barplot(x=all_data_na.index, y=all_data_na, color=\"c\")\n",
    "plt.xlabel('Features', fontsize=15)\n",
    "plt.ylabel('Percent of missing values', fontsize=15)\n",
    "plt.title('Percent missing data by feature', fontsize=15)"
   ]
  },
  {
   "cell_type": "code",
   "execution_count": 92,
   "metadata": {},
   "outputs": [],
   "source": [
    "#for user_depth - fill mode which is 3\n",
    "all_data['user_depth'].fillna(3, inplace = True)\n",
    "\n",
    "#for gender fill mode -first fill female\n",
    "#all_data.loc[((all_data.product == 'B')|(all_data.product == 'F') & all_data['gender'].isnull()==True), 'gender'] = 'Female'\n",
    "#then rest nas with mode - male\n",
    "all_data['gender'].fillna(all_data['gender'].mode()[0], inplace = True)\n",
    "#for age_group_id\n",
    "all_data['user_group_id'].fillna(all_data['user_group_id'].median(), inplace = True)\n",
    "#for age_level\n",
    "all_data['age_level'].fillna(3, inplace = True)\n"
   ]
  },
  {
   "cell_type": "code",
   "execution_count": 73,
   "metadata": {},
   "outputs": [],
   "source": [
    "#for user_depth - fill mode Age values by sex and by title\n",
    "\n",
    "all_data.loc[(all_data['Name'].str.contains('Miss|Ms') & all_data['Age'].isnull()==True), 'Age'] = 22\n",
    "all_data.loc[(all_data['Name'].str.contains('Mr|Dr') & all_data['Age'].isnull()==True), 'Age'] = 29\n",
    "all_data.loc[(all_data['Name'].str.contains('Mrs') & all_data['Age'].isnull()==True), 'Age'] = 35\n",
    "\n",
    "\n",
    "#For Fare - Fill with median Fare by Pclass. Here pclass is 3 and median Fare for that Pclass is 8.05\n",
    "all_data['Fare'].fillna(8.05, inplace = True) \n",
    "\n",
    "#for Embarked - two missing values fill with Mode\n",
    "all_data['Embarked'].fillna(all_data['Embarked'].mode()[0], inplace = True)\n"
   ]
  },
  {
   "cell_type": "code",
   "execution_count": 17,
   "metadata": {},
   "outputs": [],
   "source": []
  },
  {
   "cell_type": "code",
   "execution_count": 18,
   "metadata": {},
   "outputs": [],
   "source": [
    "#BsmtExposure-one row is marked NA(nobasement) where we have values for Basement:row-949-replace the value with mode which 'No'\n",
    "#cond = ((str(all_data['BsmtQual'])!='None') & (str(all_data['BsmtExposure']) == 'None'))\n",
    "#all_data.loc[cond,'BsmtExposure'] = 'No'\n",
    "\n",
    "#BsmtFinType2-one row marked NA(nobasement) where we have values for Basement:row-333-replace the value with mode which is 'unf'\n",
    "#cond2 = ((str(all_data['BsmtQual'])!='None') & (str(all_data['BsmtFinType2']) == 'None'))\n",
    "#all_data.loc[cond2, 'BsmtFinType2'] = 'Unf'"
   ]
  },
  {
   "cell_type": "code",
   "execution_count": 19,
   "metadata": {},
   "outputs": [],
   "source": [
    "#MSZoning - 4NAs -  impute using MSSubClass: where 20-MSz is RL, for 30-RM, 70-RM\n",
    "#cond1 = ((all_data['MSZoning'].isnull()==True) & (str(all_data['MSSubClass']) == '20'))\n",
    "#all_data.loc[cond1,'MSZoning'] = 'RL'\n",
    "#cond2 = ((all_data['MSZoning'].isnull()==True) & (str(all_data['MSSubClass']) == '30'))\n",
    "#all_data.loc[cond2,'MSZoning'] = 'RM'\n",
    "#cond3 = ((all_data['MSZoning'].isnull()==True) & (str(all_data['MSSubClass']) == '70'))\n",
    "#all_data.loc[cond3,'MSZoning'] = 'RM'"
   ]
  },
  {
   "cell_type": "markdown",
   "metadata": {},
   "source": [
    "Drop Features\n",
    "--"
   ]
  },
  {
   "cell_type": "code",
   "execution_count": 12,
   "metadata": {},
   "outputs": [],
   "source": [
    "drop_cols = ['product_category_2', 'DateTime','city_development_index']   #\n",
    "all_data.drop(drop_cols, axis=1, inplace=True)"
   ]
  },
  {
   "cell_type": "code",
   "execution_count": 13,
   "metadata": {},
   "outputs": [
    {
     "data": {
      "text/html": [
       "<div>\n",
       "<style scoped>\n",
       "    .dataframe tbody tr th:only-of-type {\n",
       "        vertical-align: middle;\n",
       "    }\n",
       "\n",
       "    .dataframe tbody tr th {\n",
       "        vertical-align: top;\n",
       "    }\n",
       "\n",
       "    .dataframe thead th {\n",
       "        text-align: right;\n",
       "    }\n",
       "</style>\n",
       "<table border=\"1\" class=\"dataframe\">\n",
       "  <thead>\n",
       "    <tr style=\"text-align: right;\">\n",
       "      <th></th>\n",
       "      <th>Missing Ratio</th>\n",
       "    </tr>\n",
       "  </thead>\n",
       "  <tbody>\n",
       "    <tr>\n",
       "      <th>user_group_id</th>\n",
       "      <td>4.040706</td>\n",
       "    </tr>\n",
       "  </tbody>\n",
       "</table>\n",
       "</div>"
      ],
      "text/plain": [
       "               Missing Ratio\n",
       "user_group_id       4.040706"
      ]
     },
     "execution_count": 13,
     "metadata": {},
     "output_type": "execute_result"
    }
   ],
   "source": [
    "#verify missing data\n",
    "#Check remaining missing values if any \n",
    "all_data_na = (all_data.isnull().sum() / len(all_data)) * 100\n",
    "all_data_na = all_data_na.drop(all_data_na[all_data_na == 0].index).sort_values(ascending=False)\n",
    "missing_data = pd.DataFrame({'Missing Ratio' :all_data_na})\n",
    "missing_data.head()"
   ]
  },
  {
   "cell_type": "markdown",
   "metadata": {},
   "source": [
    "Convert Datatypes\n",
    "--"
   ]
  },
  {
   "cell_type": "code",
   "execution_count": 87,
   "metadata": {},
   "outputs": [],
   "source": [
    "cat_cols = ['webpage_id','campaign_id', 'product_category_1', 'age_level', 'user_depth', 'user_group_id']\n",
    "for x in cat_cols:\n",
    "    all_data[x] = all_data[x].astype('str')\n",
    "    "
   ]
  },
  {
   "cell_type": "markdown",
   "metadata": {},
   "source": [
    "Feature Engineering\n",
    "--"
   ]
  },
  {
   "cell_type": "code",
   "execution_count": 15,
   "metadata": {},
   "outputs": [],
   "source": [
    "cols = ['webpage_id', 'campaign_id', 'product_category_1', 'age_level', 'user_depth' , 'gender', \n",
    "        'product', 'Hour', 'Day', 'Date']\n",
    "# Process columns, apply LabelEncoder to categorical features\n",
    "for c in cols:\n",
    "    lbl = LabelEncoder() \n",
    "    lbl.fit(list(all_data[c].values)) \n",
    "    all_data[c] = lbl.transform(list(all_data[c].values)) "
   ]
  },
  {
   "cell_type": "code",
   "execution_count": 88,
   "metadata": {},
   "outputs": [
    {
     "data": {
      "text/plain": [
       "dtype('O')"
      ]
     },
     "execution_count": 88,
     "metadata": {},
     "output_type": "execute_result"
    }
   ],
   "source": [
    "all_data['user_group_id'].dtype"
   ]
  },
  {
   "cell_type": "code",
   "execution_count": 19,
   "metadata": {},
   "outputs": [
    {
     "name": "stdout",
     "output_type": "stream",
     "text": [
      "(592149, 82)\n"
     ]
    },
    {
     "data": {
      "text/html": [
       "<div>\n",
       "<style scoped>\n",
       "    .dataframe tbody tr th:only-of-type {\n",
       "        vertical-align: middle;\n",
       "    }\n",
       "\n",
       "    .dataframe tbody tr th {\n",
       "        vertical-align: top;\n",
       "    }\n",
       "\n",
       "    .dataframe thead th {\n",
       "        text-align: right;\n",
       "    }\n",
       "</style>\n",
       "<table border=\"1\" class=\"dataframe\">\n",
       "  <thead>\n",
       "    <tr style=\"text-align: right;\">\n",
       "      <th></th>\n",
       "      <th>user_group_id</th>\n",
       "      <th>user_id</th>\n",
       "      <th>var_1</th>\n",
       "      <th>Day</th>\n",
       "      <th>webpage_id_0</th>\n",
       "      <th>webpage_id_1</th>\n",
       "      <th>webpage_id_2</th>\n",
       "      <th>webpage_id_3</th>\n",
       "      <th>webpage_id_4</th>\n",
       "      <th>webpage_id_5</th>\n",
       "      <th>...</th>\n",
       "      <th>Hour_22</th>\n",
       "      <th>Hour_23</th>\n",
       "      <th>Date_0</th>\n",
       "      <th>Date_1</th>\n",
       "      <th>Date_2</th>\n",
       "      <th>Date_3</th>\n",
       "      <th>Date_4</th>\n",
       "      <th>Date_5</th>\n",
       "      <th>Date_6</th>\n",
       "      <th>Date_7</th>\n",
       "    </tr>\n",
       "  </thead>\n",
       "  <tbody>\n",
       "    <tr>\n",
       "      <th>0</th>\n",
       "      <td>10.0</td>\n",
       "      <td>858557</td>\n",
       "      <td>0</td>\n",
       "      <td>6</td>\n",
       "      <td>0</td>\n",
       "      <td>1</td>\n",
       "      <td>0</td>\n",
       "      <td>0</td>\n",
       "      <td>0</td>\n",
       "      <td>0</td>\n",
       "      <td>...</td>\n",
       "      <td>0</td>\n",
       "      <td>0</td>\n",
       "      <td>1</td>\n",
       "      <td>0</td>\n",
       "      <td>0</td>\n",
       "      <td>0</td>\n",
       "      <td>0</td>\n",
       "      <td>0</td>\n",
       "      <td>0</td>\n",
       "      <td>0</td>\n",
       "    </tr>\n",
       "    <tr>\n",
       "      <th>1</th>\n",
       "      <td>8.0</td>\n",
       "      <td>243253</td>\n",
       "      <td>0</td>\n",
       "      <td>6</td>\n",
       "      <td>1</td>\n",
       "      <td>0</td>\n",
       "      <td>0</td>\n",
       "      <td>0</td>\n",
       "      <td>0</td>\n",
       "      <td>0</td>\n",
       "      <td>...</td>\n",
       "      <td>0</td>\n",
       "      <td>0</td>\n",
       "      <td>1</td>\n",
       "      <td>0</td>\n",
       "      <td>0</td>\n",
       "      <td>0</td>\n",
       "      <td>0</td>\n",
       "      <td>0</td>\n",
       "      <td>0</td>\n",
       "      <td>0</td>\n",
       "    </tr>\n",
       "    <tr>\n",
       "      <th>2</th>\n",
       "      <td>8.0</td>\n",
       "      <td>243253</td>\n",
       "      <td>0</td>\n",
       "      <td>6</td>\n",
       "      <td>0</td>\n",
       "      <td>1</td>\n",
       "      <td>0</td>\n",
       "      <td>0</td>\n",
       "      <td>0</td>\n",
       "      <td>0</td>\n",
       "      <td>...</td>\n",
       "      <td>0</td>\n",
       "      <td>0</td>\n",
       "      <td>1</td>\n",
       "      <td>0</td>\n",
       "      <td>0</td>\n",
       "      <td>0</td>\n",
       "      <td>0</td>\n",
       "      <td>0</td>\n",
       "      <td>0</td>\n",
       "      <td>0</td>\n",
       "    </tr>\n",
       "    <tr>\n",
       "      <th>3</th>\n",
       "      <td>3.0</td>\n",
       "      <td>1097446</td>\n",
       "      <td>1</td>\n",
       "      <td>6</td>\n",
       "      <td>0</td>\n",
       "      <td>1</td>\n",
       "      <td>0</td>\n",
       "      <td>0</td>\n",
       "      <td>0</td>\n",
       "      <td>0</td>\n",
       "      <td>...</td>\n",
       "      <td>0</td>\n",
       "      <td>0</td>\n",
       "      <td>1</td>\n",
       "      <td>0</td>\n",
       "      <td>0</td>\n",
       "      <td>0</td>\n",
       "      <td>0</td>\n",
       "      <td>0</td>\n",
       "      <td>0</td>\n",
       "      <td>0</td>\n",
       "    </tr>\n",
       "    <tr>\n",
       "      <th>4</th>\n",
       "      <td>2.0</td>\n",
       "      <td>663656</td>\n",
       "      <td>1</td>\n",
       "      <td>6</td>\n",
       "      <td>0</td>\n",
       "      <td>0</td>\n",
       "      <td>0</td>\n",
       "      <td>0</td>\n",
       "      <td>0</td>\n",
       "      <td>0</td>\n",
       "      <td>...</td>\n",
       "      <td>0</td>\n",
       "      <td>0</td>\n",
       "      <td>1</td>\n",
       "      <td>0</td>\n",
       "      <td>0</td>\n",
       "      <td>0</td>\n",
       "      <td>0</td>\n",
       "      <td>0</td>\n",
       "      <td>0</td>\n",
       "      <td>0</td>\n",
       "    </tr>\n",
       "  </tbody>\n",
       "</table>\n",
       "<p>5 rows × 82 columns</p>\n",
       "</div>"
      ],
      "text/plain": [
       "  user_group_id  user_id  var_1  Day  webpage_id_0  webpage_id_1  \\\n",
       "0          10.0   858557      0    6             0             1   \n",
       "1           8.0   243253      0    6             1             0   \n",
       "2           8.0   243253      0    6             0             1   \n",
       "3           3.0  1097446      1    6             0             1   \n",
       "4           2.0   663656      1    6             0             0   \n",
       "\n",
       "   webpage_id_2  webpage_id_3  webpage_id_4  webpage_id_5   ...    Hour_22  \\\n",
       "0             0             0             0             0   ...          0   \n",
       "1             0             0             0             0   ...          0   \n",
       "2             0             0             0             0   ...          0   \n",
       "3             0             0             0             0   ...          0   \n",
       "4             0             0             0             0   ...          0   \n",
       "\n",
       "   Hour_23  Date_0  Date_1  Date_2  Date_3  Date_4  Date_5  Date_6  Date_7  \n",
       "0        0       1       0       0       0       0       0       0       0  \n",
       "1        0       1       0       0       0       0       0       0       0  \n",
       "2        0       1       0       0       0       0       0       0       0  \n",
       "3        0       1       0       0       0       0       0       0       0  \n",
       "4        0       1       0       0       0       0       0       0       0  \n",
       "\n",
       "[5 rows x 82 columns]"
      ]
     },
     "execution_count": 19,
     "metadata": {},
     "output_type": "execute_result"
    }
   ],
   "source": [
    "#all_data = all_data.interpolate()\n",
    "all_data = pd.get_dummies(all_data, columns=['webpage_id', 'campaign_id', 'product_category_1', 'age_level', 'user_depth' , 'gender', \n",
    "        'product', 'Hour', 'Date'])\n",
    "print(all_data.shape)\n",
    "all_data.head()"
   ]
  },
  {
   "cell_type": "code",
   "execution_count": 20,
   "metadata": {},
   "outputs": [
    {
     "name": "stdout",
     "output_type": "stream",
     "text": [
      "(463291, 82)\n",
      "(128858, 82)\n"
     ]
    }
   ],
   "source": [
    "#retrieve cleaned data to separate train/test sets for Machine Learning\n",
    "train = all_data[:ntrain]\n",
    "test = all_data[ntrain:]\n",
    "print(train.shape)\n",
    "print(test.shape)"
   ]
  },
  {
   "cell_type": "code",
   "execution_count": null,
   "metadata": {},
   "outputs": [],
   "source": [
    "train.to_csv(f'{PATH2}train_data_cleaned.csv', index=False)\n",
    "test.to_csv(f'{PATH2}test_data_cleaned.csv', index=False)"
   ]
  },
  {
   "cell_type": "code",
   "execution_count": 21,
   "metadata": {},
   "outputs": [],
   "source": [
    "#imp_feat = ['Hour','product','webpage_id','age_level','gender','campaign_id', 'user_depth','product_category_1',\n",
    " #          'user_group_id']\n",
    "#drop_cols = ['user_id', 'var_1']   #\n",
    "drop_cols = ['user_group_id', 'user_id', 'var_1']\n",
    "train.drop(drop_cols, axis=1, inplace=True)\n",
    "test.drop(drop_cols, axis=1, inplace=True)"
   ]
  },
  {
   "cell_type": "markdown",
   "metadata": {},
   "source": [
    "Machine Learning\n",
    "--"
   ]
  },
  {
   "cell_type": "markdown",
   "metadata": {},
   "source": [
    "Define a cross validation strategy"
   ]
  },
  {
   "cell_type": "markdown",
   "metadata": {},
   "source": [
    "We use the cross_val_score function of Sklearn. However this function has not a shuffle attribut, we add then one line of code, in order to shuffle the dataset prior to cross-validation"
   ]
  },
  {
   "cell_type": "code",
   "execution_count": 69,
   "metadata": {},
   "outputs": [],
   "source": [
    "train_x, test_x, train_y, test_y = model_selection.train_test_split(train,y_train, train_size = 0.6, test_size = 0.3, \n",
    "                                                                    shuffle = True, random_state = 0)"
   ]
  },
  {
   "cell_type": "markdown",
   "metadata": {},
   "source": [
    "Initializing Models\n",
    "--"
   ]
  },
  {
   "cell_type": "code",
   "execution_count": 24,
   "metadata": {},
   "outputs": [
    {
     "name": "stderr",
     "output_type": "stream",
     "text": [
      "c:\\users\\kpunyakoti\\appdata\\local\\programs\\python\\python36\\lib\\site-packages\\sklearn\\linear_model\\sag.py:326: ConvergenceWarning: The max_iter was reached which means the coef_ did not converge\n",
      "  \"the coef_ did not converge\", ConvergenceWarning)\n"
     ]
    },
    {
     "data": {
      "image/png": "[encoded data removed]",
      "text/plain": [
       "<Figure size 432x288 with 1 Axes>"
      ]
     },
     "metadata": {},
     "output_type": "display_data"
    }
   ],
   "source": [
    "lr_model = linear_model.LogisticRegression(solver='sag', C=0.5)\n",
    "lr_model.fit(train_x, train_y)\n",
    "\n",
    "#y_predict = lr_model.predict(test_x)\n",
    "\n",
    "lr_predict_probabilities = lr_model.predict_proba(test_x)[:,1]\n",
    "\n",
    "lr_fpr, lr_tpr, _ = roc_curve(test_y, lr_predict_probabilities)\n",
    "lr_roc_auc = auc(lr_fpr, lr_tpr)\n",
    "\n",
    "plt.figure()\n",
    "#plt.plot(fpr, tpr, color='darkorange',\n",
    " #        lw=2, label='K-nearest Neighbours (area = %0.2f)' % roc_auc)\n",
    "plt.plot(lr_fpr, lr_tpr, color='darkgreen',\n",
    "         lw=2, label='Logistic Regression (area = %0.2f)' % lr_roc_auc)\n",
    "plt.plot([0, 1], [0, 1], color='navy', lw=2, linestyle='--')\n",
    "plt.xlim([0.0, 1.0])\n",
    "plt.ylim([0.0, 1.05])\n",
    "plt.xlabel('False Positive Rate')\n",
    "plt.ylabel('True Positive Rate')\n",
    "plt.title('ROC Curve')\n",
    "plt.legend(loc=\"lower right\")\n",
    "plt.show()"
   ]
  },
  {
   "cell_type": "code",
   "execution_count": 70,
   "metadata": {},
   "outputs": [
    {
     "data": {
      "text/plain": [
       "0    86446\n",
       "1     6213\n",
       "Name: clicks, dtype: int64"
      ]
     },
     "execution_count": 70,
     "metadata": {},
     "output_type": "execute_result"
    }
   ],
   "source": [
    "testy['clicks'] = pd.DataFrame(train_y)\n",
    "testy.clicks.value_counts()"
   ]
  },
  {
   "cell_type": "code",
   "execution_count": 73,
   "metadata": {},
   "outputs": [
    {
     "data": {
      "text/plain": [
       "SVC(C=1.0, cache_size=200, class_weight=None, coef0=0.0,\n",
       "  decision_function_shape='ovr', degree=3, gamma='auto', kernel='rbf',\n",
       "  max_iter=-1, probability=False, random_state=None, shrinking=True,\n",
       "  tol=0.001, verbose=False)"
      ]
     },
     "execution_count": 73,
     "metadata": {},
     "output_type": "execute_result"
    }
   ],
   "source": [
    "sv = svc()\n",
    "sv.fit(train_x, train_y)"
   ]
  },
  {
   "cell_type": "code",
   "execution_count": 76,
   "metadata": {},
   "outputs": [
    {
     "ename": "TypeError",
     "evalue": "'property' object is not callable",
     "output_type": "error",
     "traceback": [
      "\u001b[1;31m---------------------------------------------------------------------------\u001b[0m",
      "\u001b[1;31mTypeError\u001b[0m                                 Traceback (most recent call last)",
      "\u001b[1;32m<ipython-input-76-456d7faf2007>\u001b[0m in \u001b[0;36m<module>\u001b[1;34m()\u001b[0m\n\u001b[1;32m----> 1\u001b[1;33m \u001b[0msvc_predict_probabilities\u001b[0m \u001b[1;33m=\u001b[0m \u001b[0msvc\u001b[0m\u001b[1;33m.\u001b[0m\u001b[0mpredict_proba\u001b[0m\u001b[1;33m(\u001b[0m\u001b[0mtest_x\u001b[0m\u001b[1;33m)\u001b[0m\u001b[1;33m[\u001b[0m\u001b[1;33m:\u001b[0m\u001b[1;33m,\u001b[0m\u001b[1;36m1\u001b[0m\u001b[1;33m]\u001b[0m\u001b[1;33m\u001b[0m\u001b[0m\n\u001b[0m\u001b[0;32m      2\u001b[0m \u001b[1;33m\u001b[0m\u001b[0m\n\u001b[0;32m      3\u001b[0m \u001b[0msvc_fpr\u001b[0m\u001b[1;33m,\u001b[0m \u001b[0msvc_tpr\u001b[0m\u001b[1;33m,\u001b[0m \u001b[0m_\u001b[0m \u001b[1;33m=\u001b[0m \u001b[0mroc_curve\u001b[0m\u001b[1;33m(\u001b[0m\u001b[0mtest_y\u001b[0m\u001b[1;33m,\u001b[0m \u001b[0msvc_predict_probabilities\u001b[0m\u001b[1;33m)\u001b[0m\u001b[1;33m\u001b[0m\u001b[0m\n\u001b[0;32m      4\u001b[0m \u001b[0msvc_roc_auc\u001b[0m \u001b[1;33m=\u001b[0m \u001b[0mauc\u001b[0m\u001b[1;33m(\u001b[0m\u001b[0msvc_fpr\u001b[0m\u001b[1;33m,\u001b[0m \u001b[0msvc_tpr\u001b[0m\u001b[1;33m)\u001b[0m\u001b[1;33m\u001b[0m\u001b[0m\n\u001b[0;32m      5\u001b[0m \u001b[1;33m\u001b[0m\u001b[0m\n",
      "\u001b[1;31mTypeError\u001b[0m: 'property' object is not callable"
     ]
    }
   ],
   "source": [
    "svc_predict_probabilities = svc.predict_proba(test_x)[:,1]\n",
    "\n",
    "svc_fpr, svc_tpr, _ = roc_curve(test_y, svc_predict_probabilities)\n",
    "svc_roc_auc = auc(svc_fpr, svc_tpr)\n",
    "\n",
    "plt.figure()\n",
    "#plt.plot(fpr, tpr, color='darkorange',\n",
    " #        lw=2, label='K-nearest Neighbours (area = %0.2f)' % roc_auc)\n",
    "plt.plot(svc_fpr, svc_tpr, color='darkgreen',\n",
    "         lw=2, label='svc (area = %0.2f)' % svc_roc_auc)\n",
    "plt.plot([0, 1], [0, 1], color='navy', lw=2, linestyle='--')\n",
    "plt.xlim([0.0, 1.0])\n",
    "plt.ylim([0.0, 1.05])\n",
    "plt.xlabel('False Positive Rate')\n",
    "plt.ylabel('True Positive Rate')\n",
    "plt.title('ROC Curve')\n",
    "plt.legend(loc=\"lower right\")\n",
    "plt.show()\n"
   ]
  },
  {
   "cell_type": "code",
   "execution_count": 98,
   "metadata": {},
   "outputs": [],
   "source": [
    "xgb = XGBClassifier()\n",
    "xgb.fit(train_x, train_y)\n",
    "\n",
    "xgb_predict_probabilities = xgb.predict_proba(test_x)[:,1]\n",
    "\n",
    "xgb_fpr, xgb_tpr, _ = roc_curve(test_y, xgb_predict_probabilities)\n",
    "xgb_roc_auc = auc(xgb_fpr, xgb_tpr)\n"
   ]
  },
  {
   "cell_type": "code",
   "execution_count": 100,
   "metadata": {},
   "outputs": [
    {
     "data": {
      "image/png": "[encoded data removed]",
      "text/plain": [
       "<Figure size 432x288 with 1 Axes>"
      ]
     },
     "metadata": {},
     "output_type": "display_data"
    }
   ],
   "source": [
    "rf = ensemble.RandomForestClassifier()\n",
    "rf.fit(train_x, train_y)\n",
    "\n",
    "rf_predict_probabilities = rf.predict_proba(test_x)[:,1]\n",
    "\n",
    "rf_fpr, rf_tpr, _ = roc_curve(test_y, rf_predict_probabilities)\n",
    "rf_roc_auc = auc(rf_fpr, rf_tpr)\n",
    "\n",
    "plt.figure()\n",
    "plt.plot(gb_fpr, gb_tpr, color='darkorange',\n",
    "         lw=2, label='GradientBoost (area = %0.2f)' % gb_roc_auc)\n",
    "plt.plot(lr_fpr, lr_tpr, color='darkgreen',\n",
    "         lw=2, label='LogisticReg (area = %0.2f)' % lr_roc_auc)\n",
    "plt.plot(rf_fpr, rf_tpr, color='black',\n",
    "         lw=2, label='RandomForest (area = %0.2f)' % rf_roc_auc)\n",
    "plt.plot(xgb_fpr, xgb_tpr, color='red',\n",
    "         lw=2, label='Xgboost (area = %0.2f)' % xgb_roc_auc)\n",
    "plt.plot([0, 1], [0, 1], color='navy', lw=2, linestyle='--')\n",
    "plt.xlim([0.0, 1.0])\n",
    "plt.ylim([0.0, 1.05])\n",
    "plt.xlabel('False Positive Rate')\n",
    "plt.ylabel('True Positive Rate')\n",
    "plt.title('ROC Curve')\n",
    "plt.legend(loc=\"lower right\")\n",
    "plt.show()"
   ]
  },
  {
   "cell_type": "markdown",
   "metadata": {},
   "source": [
    "Final Training and Predictions\n",
    "--"
   ]
  },
  {
   "cell_type": "code",
   "execution_count": 77,
   "metadata": {},
   "outputs": [],
   "source": [
    "#submit = pd.DataFrame()\n",
    "#submit['Id'] = test.index\n",
    "#submit['SalePrice'] = ensemble\n",
    "preds = sv.predict(test)\n",
    "submit = pd.DataFrame({'session_id': test_ID, 'is_click': preds})\n",
    "submit.to_csv(f'{PATH2}submission_lgb.csv', index=False)"
   ]
  },
  {
   "cell_type": "code",
   "execution_count": 79,
   "metadata": {},
   "outputs": [
    {
     "data": {
      "text/plain": [
       "0    128858\n",
       "Name: clck, dtype: int64"
      ]
     },
     "execution_count": 79,
     "metadata": {},
     "output_type": "execute_result"
    }
   ],
   "source": [
    "prd['clck'] = pd.DataFrame(preds)\n",
    "prd.clck.value_counts()"
   ]
  },
  {
   "cell_type": "code",
   "execution_count": null,
   "metadata": {},
   "outputs": [],
   "source": []
  },
  {
   "cell_type": "code",
   "execution_count": 93,
   "metadata": {},
   "outputs": [],
   "source": [
    "def OHEncode (df, cols):\n",
    "    for x in cols:\n",
    "        x_ohe = pd.get_dummies(df[x], prefix=x)\n",
    "        df = pd.concat([df, x_ohe], axis=1)\n",
    "        df = df.drop([x], axis=1)\n",
    "    return df\n"
   ]
  },
  {
   "cell_type": "code",
   "execution_count": 159,
   "metadata": {},
   "outputs": [],
   "source": [
    "testing=False\n",
    "chunksize=50000\n",
    "clf = linear_model.LogisticRegression()"
   ]
  },
  {
   "cell_type": "code",
   "execution_count": 160,
   "metadata": {},
   "outputs": [],
   "source": [
    "train2 = pd.read_csv(f'{PATH1}train.csv')#, iterator=True,chunksize=chunksize) #Load data\n",
    "test2 = pd.read_csv(f'{PATH1}test.csv')#, iterator=True,chunksize=chunksize) #Load data"
   ]
  },
  {
   "cell_type": "code",
   "execution_count": 161,
   "metadata": {},
   "outputs": [],
   "source": [
    "train2['DateTime'] = pd.to_datetime(train2['DateTime'])\n",
    "train2['Hour'] = train2['DateTime'].dt.hour\n",
    "train2['Date'] = train2['DateTime'].dt.day\n",
    "test2['DateTime'] = pd.to_datetime(test2['DateTime'])\n",
    "test2['Hour'] = test2['DateTime'].dt.hour\n",
    "test2['Date'] = test2['DateTime'].dt.day"
   ]
  },
  {
   "cell_type": "code",
   "execution_count": 162,
   "metadata": {},
   "outputs": [],
   "source": [
    "train2['user_depth'].fillna(3, inplace = True)\n",
    "train2['gender'].fillna(train2['gender'].mode()[0], inplace = True)\n",
    "train2['user_group_id'].fillna(train2['user_group_id'].median(), inplace = True)\n",
    "train2['age_level'].fillna(3, inplace = True)\n",
    "\n",
    "test2['user_depth'].fillna(3, inplace = True)\n",
    "test2['gender'].fillna(test2['gender'].mode()[0], inplace = True)\n",
    "test2['user_group_id'].fillna(test2['user_group_id'].median(), inplace = True)\n",
    "test2['age_level'].fillna(3, inplace = True)"
   ]
  },
  {
   "cell_type": "code",
   "execution_count": 163,
   "metadata": {},
   "outputs": [],
   "source": [
    "cols = ['webpage_id', 'campaign_id', 'age_level', 'user_depth' , 'gender', \n",
    "        'product', 'Hour', 'Date']\n",
    "# Process columns, apply LabelEncoder to categorical features\n",
    "for c in cols:\n",
    "    lbl = LabelEncoder() \n",
    "    lbl.fit(list(train2[c].values)) \n",
    "    train2[c] = lbl.transform(list(train2[c].values)) \n",
    "    lbl.fit(list(test2[c].values)) \n",
    "    test2[c] = lbl.transform(list(test2[c].values)) \n"
   ]
  },
  {
   "cell_type": "code",
   "execution_count": 164,
   "metadata": {},
   "outputs": [],
   "source": [
    "train2.to_csv(f'{PATH1}train2.csv', index=False)\n",
    "test2.to_csv(f'{PATH1}test2.csv', index=False)"
   ]
  },
  {
   "cell_type": "code",
   "execution_count": 165,
   "metadata": {},
   "outputs": [],
   "source": [
    "train3 = pd.read_csv(f'{PATH1}train2.csv', iterator=True,chunksize=chunksize) #Load data\n",
    "test3 = pd.read_csv(f'{PATH1}test2.csv', iterator=True,chunksize=chunksize)"
   ]
  },
  {
   "cell_type": "code",
   "execution_count": 166,
   "metadata": {},
   "outputs": [
    {
     "name": "stdout",
     "output_type": "stream",
     "text": [
      "Chunks training\n"
     ]
    }
   ],
   "source": [
    "print('Chunks training')\n",
    "for chunk in train3:\n",
    "    chunk = chunk.drop(['var_1','product_category_2', 'DateTime','city_development_index'], axis=1)\n",
    "    #chunk = OHEncode(chunk,cols) # Perform OHE\n",
    "    predictors=[x for x in chunk.columns if x not in ['user_id','age_level','gender','product_category_1','is_click']] # Select columns for prediction\n",
    "    chunk=chunk.fillna(0.0)\n",
    "    clf.fit(chunk[predictors], chunk['is_click']) #Fit classifier\n",
    "    if testing:\n",
    "        break\n",
    "train3='' #remove train"
   ]
  },
  {
   "cell_type": "code",
   "execution_count": 167,
   "metadata": {},
   "outputs": [
    {
     "data": {
      "text/html": [
       "<div>\n",
       "<style scoped>\n",
       "    .dataframe tbody tr th:only-of-type {\n",
       "        vertical-align: middle;\n",
       "    }\n",
       "\n",
       "    .dataframe tbody tr th {\n",
       "        vertical-align: top;\n",
       "    }\n",
       "\n",
       "    .dataframe thead th {\n",
       "        text-align: right;\n",
       "    }\n",
       "</style>\n",
       "<table border=\"1\" class=\"dataframe\">\n",
       "  <thead>\n",
       "    <tr style=\"text-align: right;\">\n",
       "      <th></th>\n",
       "      <th>session_id</th>\n",
       "      <th>user_id</th>\n",
       "      <th>product</th>\n",
       "      <th>campaign_id</th>\n",
       "      <th>webpage_id</th>\n",
       "      <th>product_category_1</th>\n",
       "      <th>user_group_id</th>\n",
       "      <th>gender</th>\n",
       "      <th>age_level</th>\n",
       "      <th>user_depth</th>\n",
       "      <th>is_click</th>\n",
       "      <th>Hour</th>\n",
       "      <th>Date</th>\n",
       "    </tr>\n",
       "  </thead>\n",
       "  <tbody>\n",
       "    <tr>\n",
       "      <th>450000</th>\n",
       "      <td>383661</td>\n",
       "      <td>468455</td>\n",
       "      <td>7</td>\n",
       "      <td>0</td>\n",
       "      <td>0</td>\n",
       "      <td>1</td>\n",
       "      <td>5.0</td>\n",
       "      <td>1</td>\n",
       "      <td>5</td>\n",
       "      <td>2</td>\n",
       "      <td>0</td>\n",
       "      <td>18</td>\n",
       "      <td>5</td>\n",
       "    </tr>\n",
       "    <tr>\n",
       "      <th>450001</th>\n",
       "      <td>170459</td>\n",
       "      <td>1098184</td>\n",
       "      <td>7</td>\n",
       "      <td>4</td>\n",
       "      <td>3</td>\n",
       "      <td>4</td>\n",
       "      <td>4.0</td>\n",
       "      <td>1</td>\n",
       "      <td>4</td>\n",
       "      <td>2</td>\n",
       "      <td>0</td>\n",
       "      <td>18</td>\n",
       "      <td>5</td>\n",
       "    </tr>\n",
       "    <tr>\n",
       "      <th>450002</th>\n",
       "      <td>129427</td>\n",
       "      <td>1043803</td>\n",
       "      <td>2</td>\n",
       "      <td>4</td>\n",
       "      <td>3</td>\n",
       "      <td>4</td>\n",
       "      <td>11.0</td>\n",
       "      <td>0</td>\n",
       "      <td>5</td>\n",
       "      <td>2</td>\n",
       "      <td>0</td>\n",
       "      <td>18</td>\n",
       "      <td>5</td>\n",
       "    </tr>\n",
       "    <tr>\n",
       "      <th>450003</th>\n",
       "      <td>351807</td>\n",
       "      <td>553276</td>\n",
       "      <td>7</td>\n",
       "      <td>6</td>\n",
       "      <td>6</td>\n",
       "      <td>1</td>\n",
       "      <td>5.0</td>\n",
       "      <td>1</td>\n",
       "      <td>5</td>\n",
       "      <td>2</td>\n",
       "      <td>0</td>\n",
       "      <td>18</td>\n",
       "      <td>5</td>\n",
       "    </tr>\n",
       "    <tr>\n",
       "      <th>450004</th>\n",
       "      <td>308722</td>\n",
       "      <td>370546</td>\n",
       "      <td>2</td>\n",
       "      <td>5</td>\n",
       "      <td>3</td>\n",
       "      <td>5</td>\n",
       "      <td>3.0</td>\n",
       "      <td>1</td>\n",
       "      <td>3</td>\n",
       "      <td>2</td>\n",
       "      <td>0</td>\n",
       "      <td>18</td>\n",
       "      <td>5</td>\n",
       "    </tr>\n",
       "  </tbody>\n",
       "</table>\n",
       "</div>"
      ],
      "text/plain": [
       "        session_id  user_id  product  campaign_id  webpage_id  \\\n",
       "450000      383661   468455        7            0           0   \n",
       "450001      170459  1098184        7            4           3   \n",
       "450002      129427  1043803        2            4           3   \n",
       "450003      351807   553276        7            6           6   \n",
       "450004      308722   370546        2            5           3   \n",
       "\n",
       "        product_category_1  user_group_id  gender  age_level  user_depth  \\\n",
       "450000                   1            5.0       1          5           2   \n",
       "450001                   4            4.0       1          4           2   \n",
       "450002                   4           11.0       0          5           2   \n",
       "450003                   1            5.0       1          5           2   \n",
       "450004                   5            3.0       1          3           2   \n",
       "\n",
       "        is_click  Hour  Date  \n",
       "450000         0    18     5  \n",
       "450001         0    18     5  \n",
       "450002         0    18     5  \n",
       "450003         0    18     5  \n",
       "450004         0    18     5  "
      ]
     },
     "execution_count": 167,
     "metadata": {},
     "output_type": "execute_result"
    }
   ],
   "source": [
    "chunk.head()"
   ]
  },
  {
   "cell_type": "code",
   "execution_count": 169,
   "metadata": {},
   "outputs": [
    {
     "name": "stdout",
     "output_type": "stream",
     "text": [
      "Testing\n",
      "Done Testing\n"
     ]
    }
   ],
   "source": [
    "print('Testing')\n",
    "predY=[]\n",
    "for chunk in test3:\n",
    "    init_chunk_size=len(chunk)\n",
    "    chunk = chunk.drop(['var_1','product_category_2', 'DateTime','city_development_index'], axis=1)\n",
    "    #chunk = OHEncode(chunk,cols)\n",
    "    chunk=chunk.fillna(0.0)\n",
    "    chunk_pred=list(clf.predict_proba(chunk[predictors]).astype(float)[:,1])\n",
    "    predY += chunk_pred\n",
    "    if testing:\n",
    "        break\n",
    "print('Done Testing')"
   ]
  },
  {
   "cell_type": "code",
   "execution_count": null,
   "metadata": {},
   "outputs": [],
   "source": [
    "predY"
   ]
  },
  {
   "cell_type": "code",
   "execution_count": 173,
   "metadata": {},
   "outputs": [
    {
     "name": "stdout",
     "output_type": "stream",
     "text": [
      "Testing\n",
      "Done Testing\n"
     ]
    }
   ],
   "source": [
    "print('Testing')\n",
    "predY2=[]\n",
    "for chunk in test3:\n",
    "    init_chunk_size=len(chunk)\n",
    "    chunk = chunk.drop(['var_1','product_category_2', 'DateTime','city_development_index'], axis=1)\n",
    "    #chunk = OHEncode(chunk,cols)\n",
    "    chunk=chunk.fillna(0.0)\n",
    "    chunk_pred=list(clf.predict(chunk[predictors])[:,1])\n",
    "    predY2 += chunk_pred\n",
    "    if testing:\n",
    "        break\n",
    "print('Done Testing')"
   ]
  },
  {
   "cell_type": "code",
   "execution_count": 174,
   "metadata": {},
   "outputs": [
    {
     "data": {
      "text/plain": [
       "[]"
      ]
     },
     "execution_count": 174,
     "metadata": {},
     "output_type": "execute_result"
    }
   ],
   "source": [
    "predY2"
   ]
  },
  {
   "cell_type": "code",
   "execution_count": 176,
   "metadata": {},
   "outputs": [
    {
     "name": "stdout",
     "output_type": "stream",
     "text": [
      "Preparing for Submission\n"
     ]
    }
   ],
   "source": [
    "print('Preparing for Submission')\n",
    "test3='' #remove test\n",
    "testnw= pd.read_csv(f'{PATH1}test_results.csv') #load full test"
   ]
  },
  {
   "cell_type": "code",
   "execution_count": 177,
   "metadata": {},
   "outputs": [
    {
     "name": "stdout",
     "output_type": "stream",
     "text": [
      "        0         1\n",
      "0  411705  0.059081\n",
      "1  208263  0.074284\n",
      "2  239450  0.097067\n",
      "3  547761  0.118446\n",
      "4  574275  0.137288\n",
      "5  394913  0.188910\n",
      "6  562747  0.121449\n",
      "7  224359  0.099884\n",
      "8  395004  0.113816\n",
      "9  572855  0.136442\n"
     ]
    }
   ],
   "source": [
    "results=pd.concat((testnw,pd.DataFrame(predY)) ,axis=1,ignore_index=True) #Combine the predicted values with the ids\n",
    "print(results.head(10))"
   ]
  },
  {
   "cell_type": "code",
   "execution_count": 178,
   "metadata": {},
   "outputs": [
    {
     "name": "stdout",
     "output_type": "stream",
     "text": [
      "   session_id  is_click\n",
      "0      411705  0.059081\n",
      "1      208263  0.074284\n",
      "2      239450  0.097067\n",
      "3      547761  0.118446\n",
      "4      574275  0.137288\n",
      "5      394913  0.188910\n",
      "6      562747  0.121449\n",
      "7      224359  0.099884\n",
      "8      395004  0.113816\n",
      "9      572855  0.136442\n"
     ]
    }
   ],
   "source": [
    "results.columns = ['session_id','is_click']#Rename the columns\n",
    "print(results.head(10))"
   ]
  },
  {
   "cell_type": "code",
   "execution_count": 179,
   "metadata": {},
   "outputs": [],
   "source": [
    "results.to_csv(f'{PATH1}result.csv', index=False)"
   ]
  },
  {
   "cell_type": "code",
   "execution_count": null,
   "metadata": {},
   "outputs": [],
   "source": []
  }
 ],
 "metadata": {
  "kernelspec": {
   "display_name": "Python 3",
   "language": "python",
   "name": "python3"
  },
  "language_info": {
   "codemirror_mode": {
    "name": "ipython",
    "version": 3
   },
   "file_extension": ".py",
   "mimetype": "text/x-python",
   "name": "python",
   "nbconvert_exporter": "python",
   "pygments_lexer": "ipython3",
   "version": "3.6.5"
  }
 },
 "nbformat": 4,
 "nbformat_minor": 2
}
