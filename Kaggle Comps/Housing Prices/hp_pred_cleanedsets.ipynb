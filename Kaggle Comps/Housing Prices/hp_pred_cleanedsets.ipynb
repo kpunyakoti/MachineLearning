{
 "cells": [
  {
   "cell_type": "code",
   "execution_count": 1,
   "metadata": {},
   "outputs": [],
   "source": [
    "import pandas as pd\n",
    "#from sklearn import tree\n",
    "from sklearn.ensemble import RandomForestRegressor, GradientBoostingRegressor\n",
    "from sklearn.linear_model import RidgeCV\n",
    "from sklearn.linear_model import ElasticNetCV"
   ]
  },
  {
   "cell_type": "code",
   "execution_count": 4,
   "metadata": {},
   "outputs": [],
   "source": [
    "PATH1 = \"C:/Users/kpunyakoti/Desktop/Data Science/Kaggle/Housing Prices/Source Data files/\"   #where you read the files from\n",
    "PATH2 = \"C:/Users/kpunyakoti/Desktop/Data Science/Kaggle/Housing Prices/Submissions/\"   #where you export the files to\n",
    "df_train = pd.read_csv(f'{PATH1}clean4_train_data.csv', index_col='Id')\n",
    "df_test = pd.read_csv(f'{PATH1}clean4_test_data.csv', index_col='Id')\n",
    "target = df_train['SalePrice']  #target variable\n",
    "df_train = df_train.drop('SalePrice', axis=1)\n",
    "df_train['training_set'] = True\n",
    "df_test['training_set'] = False\n",
    "df_full = pd.concat([df_train, df_test])"
   ]
  },
  {
   "cell_type": "code",
   "execution_count": 6,
   "metadata": {},
   "outputs": [
    {
     "data": {
      "text/plain": [
       "(2919, 302)"
      ]
     },
     "execution_count": 6,
     "metadata": {},
     "output_type": "execute_result"
    }
   ],
   "source": [
    "df_full.shape"
   ]
  },
  {
   "cell_type": "code",
   "execution_count": 9,
   "metadata": {},
   "outputs": [],
   "source": [
    "df_full = df_full.interpolate()\n",
    "df_full = pd.get_dummies(df_full)\n",
    "df_train = df_full[df_full['training_set']==True]\n",
    "df_train = df_train.drop('training_set', axis=1)\n",
    "df_test = df_full[df_full['training_set']==False]\n",
    "df_test = df_test.drop('training_set', axis=1)\n",
    "#rf = RandomForestRegressor(n_estimators=100, n_jobs=-1)\n",
    "model = GradientBoostingRegressor() # gradientboosting proved to be much better than randomforest \n",
    "#model = ElasticNetCV()\n",
    "model.fit(df_train, target)\n",
    "preds = model.predict(df_test)\n",
    "my_submission = pd.DataFrame({'Id': df_test.index, 'SalePrice': preds})\n",
    "my_submission.to_csv(f'{PATH2}submission_1105_out.csv', index=False)"
   ]
  },
  {
   "cell_type": "code",
   "execution_count": 41,
   "metadata": {},
   "outputs": [],
   "source": [
    "#df_full.to_csv(f'{PATH1}interpolated_dummies_set.csv')"
   ]
  },
  {
   "cell_type": "code",
   "execution_count": 40,
   "metadata": {},
   "outputs": [
    {
     "name": "stdout",
     "output_type": "stream",
     "text": [
      "<class 'pandas.core.frame.DataFrame'>\n",
      "Int64Index: 2919 entries, 1 to 2919\n",
      "Columns: 302 entries, MSSubClass to SaleCondition_Partial\n",
      "dtypes: bool(1), float64(10), int64(24), uint8(267)\n",
      "memory usage: 1.5 MB\n"
     ]
    }
   ],
   "source": [
    "#GradientBoosing RMSE with null cleaned data: "
   ]
  },
  {
   "cell_type": "markdown",
   "metadata": {},
   "source": []
  }
 ],
 "metadata": {
  "kernelspec": {
   "display_name": "Python 3",
   "language": "python",
   "name": "python3"
  },
  "language_info": {
   "codemirror_mode": {
    "name": "ipython",
    "version": 3
   },
   "file_extension": ".py",
   "mimetype": "text/x-python",
   "name": "python",
   "nbconvert_exporter": "python",
   "pygments_lexer": "ipython3",
   "version": "3.6.5"
  }
 },
 "nbformat": 4,
 "nbformat_minor": 2
}
