{
 "cells": [
  {
   "cell_type": "code",
   "execution_count": 1,
   "metadata": {},
   "outputs": [],
   "source": [
    "import pandas as pd\n",
    "import numpy as np\n",
    "\n",
    "import scipy as sp\n",
    "import sklearn as sk\n",
    "\n",
    "import math\n",
    "import random\n",
    "import time\n",
    "from collections import OrderedDict\n",
    "\n",
    "import warnings\n",
    "warnings.filterwarnings('ignore')\n",
    "from subprocess import check_output\n"
   ]
  },
  {
   "cell_type": "code",
   "execution_count": 2,
   "metadata": {},
   "outputs": [],
   "source": [
    "#common model algorithms\n",
    "from sklearn import svm, tree, gaussian_process, linear_model, ensemble\n",
    "from sklearn.ensemble import RandomForestRegressor, GradientBoostingRegressor\n",
    "from xgboost import XGBRegressor\n",
    "from xgboost import plot_importance\n",
    "\n",
    "#common model help tools\n",
    "from sklearn import feature_selection\n",
    "from sklearn import model_selection\n",
    "from sklearn import metrics\n",
    "from sklearn.preprocessing import OneHotEncoder, LabelEncoder\n",
    "\n",
    "#Data visualization\n",
    "import matplotlib as mpl\n",
    "import matplotlib.pyplot as plt\n",
    "import matplotlib.pylab as pylab\n",
    "import seaborn as sns\n",
    "\n",
    "from sklearn.model_selection import GridSearchCV\n",
    "from sklearn.model_selection import StratifiedKFold, cross_val_score\n",
    "\n",
    "#set visual parameters\n",
    "%matplotlib inline\n",
    "mpl.style.use('ggplot')\n",
    "sns.set_style('white')\n",
    "pylab.rcParams['figure.figsize'] = 16,8"
   ]
  },
  {
   "cell_type": "code",
   "execution_count": 55,
   "metadata": {},
   "outputs": [],
   "source": [
    "PATH1 = \"C:/Users/kpunyakoti/Desktop/Data Science/Kaggle/Housing Prices/Source Data files/\"   #where you read the files from\n",
    "PATH2 = \"C:/Users/kpunyakoti/Desktop/Data Science/Kaggle/Housing Prices/Submissions/\"   #where you export the files to\n",
    "df_train = pd.read_csv(f'{PATH1}train_dat_cleaned.csv', index_col = 'Id')\n",
    "df_test = pd.read_csv(f'{PATH1}test_data_cleaned.csv', index_col = 'Id')\n",
    "play_data = df_train.copy()"
   ]
  },
  {
   "cell_type": "code",
   "execution_count": 56,
   "metadata": {},
   "outputs": [],
   "source": [
    "#define y variable aka target/outcome\n",
    "Target = play_data['SalePrice']\n",
    "train_data = play_data.drop('SalePrice', axis=1)\n",
    "test_data = df_test.copy()\n",
    "train_data['trainingset'] = True\n",
    "test_data['trainingset'] = False\n",
    "df_full = pd.concat([train_data, test_data])"
   ]
  },
  {
   "cell_type": "code",
   "execution_count": 57,
   "metadata": {},
   "outputs": [
    {
     "name": "stdout",
     "output_type": "stream",
     "text": [
      "(1459, 76)\n",
      "(1460, 76)\n"
     ]
    }
   ],
   "source": [
    "print(test_data.shape)\n",
    "print(train_data.shape)\n",
    "#test_data = test_data.drop('SalePrice', axis =1)"
   ]
  },
  {
   "cell_type": "code",
   "execution_count": 1,
   "metadata": {},
   "outputs": [
    {
     "ename": "NameError",
     "evalue": "name 'df_full' is not defined",
     "output_type": "error",
     "traceback": [
      "\u001b[1;31m---------------------------------------------------------------------------\u001b[0m",
      "\u001b[1;31mNameError\u001b[0m                                 Traceback (most recent call last)",
      "\u001b[1;32m<ipython-input-1-aa4e63ea1536>\u001b[0m in \u001b[0;36m<module>\u001b[1;34m()\u001b[0m\n\u001b[0;32m      1\u001b[0m \u001b[0mcat_cols\u001b[0m \u001b[1;33m=\u001b[0m \u001b[1;33m[\u001b[0m\u001b[1;34m'MSSubClass'\u001b[0m\u001b[1;33m,\u001b[0m\u001b[1;34m'OverallQual'\u001b[0m\u001b[1;33m,\u001b[0m \u001b[1;34m'YrSold'\u001b[0m\u001b[1;33m,\u001b[0m \u001b[1;34m'MoSold'\u001b[0m\u001b[1;33m]\u001b[0m\u001b[1;33m\u001b[0m\u001b[0m\n\u001b[0;32m      2\u001b[0m \u001b[1;32mfor\u001b[0m \u001b[0mx\u001b[0m \u001b[1;32min\u001b[0m \u001b[0mcat_cols\u001b[0m\u001b[1;33m:\u001b[0m\u001b[1;33m\u001b[0m\u001b[0m\n\u001b[1;32m----> 3\u001b[1;33m     \u001b[0mdf_full\u001b[0m\u001b[1;33m[\u001b[0m\u001b[0mx\u001b[0m\u001b[1;33m]\u001b[0m \u001b[1;33m=\u001b[0m \u001b[0mdf_full\u001b[0m\u001b[1;33m[\u001b[0m\u001b[0mx\u001b[0m\u001b[1;33m]\u001b[0m\u001b[1;33m.\u001b[0m\u001b[0mastype\u001b[0m\u001b[1;33m(\u001b[0m\u001b[1;34m'category'\u001b[0m\u001b[1;33m)\u001b[0m\u001b[1;33m\u001b[0m\u001b[0m\n\u001b[0m",
      "\u001b[1;31mNameError\u001b[0m: name 'df_full' is not defined"
     ]
    }
   ],
   "source": [
    "cat_cols = ['MSSubClass','OverallQual', 'YrSold', 'MoSold']\n",
    "for x in cat_cols:\n",
    "    df_full[x] = df_full[x].astype('category')"
   ]
  },
  {
   "cell_type": "code",
   "execution_count": 58,
   "metadata": {},
   "outputs": [],
   "source": [
    "cols = ['FireplaceQu', 'BsmtQual', 'BsmtCond', 'GarageQual', 'GarageCond', \n",
    "        'ExterQual', 'ExterCond','HeatingQC', 'KitchenQual', 'BsmtFinType1', \n",
    "        'BsmtFinType2', 'Functional', 'Fence', 'BsmtExposure', 'GarageFinish', 'LandSlope',\n",
    "        'LotShape', 'PavedDrive', 'Alley', 'CentralAir', 'MSSubClass', 'OverallCond', \n",
    "        'YrSold', 'MoSold']\n",
    "\n",
    "# Process columns, apply LabelEncoder to categorical features\n",
    "for c in cols:\n",
    "    lbl = LabelEncoder() \n",
    "    lbl.fit(list(df_full[c].values)) \n",
    "    df_full[c] = lbl.transform(list(df_full[c].values)) "
   ]
  },
  {
   "cell_type": "code",
   "execution_count": 59,
   "metadata": {},
   "outputs": [],
   "source": [
    "df_full = df_full.interpolate()\n",
    "df_full = pd.get_dummies(df_full)\n",
    "\n",
    "train_data = df_full[df_full['trainingset']== True]\n",
    "train_data = train_data.drop('trainingset', axis=1)\n",
    "test_data = df_full[df_full['trainingset']== False]\n",
    "test_data = test_data.drop('trainingset', axis=1)\n"
   ]
  },
  {
   "cell_type": "code",
   "execution_count": 60,
   "metadata": {},
   "outputs": [
    {
     "name": "stdout",
     "output_type": "stream",
     "text": [
      "(1460, 198)\n",
      "(1459, 198)\n"
     ]
    }
   ],
   "source": [
    "print(train_data.shape)\n",
    "print(test_data.shape)"
   ]
  },
  {
   "cell_type": "code",
   "execution_count": 31,
   "metadata": {},
   "outputs": [],
   "source": [
    "train_data.to_csv(f'{PATH2}train_data_interpol2.csv', index=False)"
   ]
  },
  {
   "cell_type": "markdown",
   "metadata": {},
   "source": [
    "Feature Ranking\n",
    "--"
   ]
  },
  {
   "cell_type": "code",
   "execution_count": 94,
   "metadata": {},
   "outputs": [
    {
     "data": {
      "text/plain": [
       "'\"colsample_bytree=0.4,\\n                 gamma=0,                 \\n                 learning_rate=0.07,\\n                 max_depth=3,\\n                 min_child_weight=1.5,\\n                 n_estimators=1000,                                                                    \\n                 reg_alpha=0.75,\\n                 reg_lambda=0.45,\\n                 subsample=0.6,\\n                 seed=42) '"
      ]
     },
     "execution_count": 94,
     "metadata": {},
     "output_type": "execute_result"
    }
   ],
   "source": [
    "feat_rank = XGBRegressor(n_estimators = 1000, learning_rate = .07)\n",
    "\"\"\"\"colsample_bytree=0.4,\n",
    "                 gamma=0,                 \n",
    "                 learning_rate=0.07,\n",
    "                 max_depth=3,\n",
    "                 min_child_weight=1.5,\n",
    "                 n_estimators=1000,                                                                    \n",
    "                 reg_alpha=0.75,\n",
    "                 reg_lambda=0.45,\n",
    "                 subsample=0.6,\n",
    "                 seed=42) \"\"\""
   ]
  },
  {
   "cell_type": "code",
   "execution_count": 100,
   "metadata": {},
   "outputs": [
    {
     "data": {
      "text/plain": [
       "<matplotlib.axes._subplots.AxesSubplot at 0x25d1a5ed828>"
      ]
     },
     "execution_count": 100,
     "metadata": {},
     "output_type": "execute_result"
    },
    {
     "data": {
      "text/plain": [
       "<Figure size 864x28800 with 0 Axes>"
      ]
     },
     "metadata": {},
     "output_type": "display_data"
    },
    {
     "data": {
      "image/png": "[encoded data removed]",
      "text/plain": [
       "<Figure size 432x288 with 1 Axes>"
      ]
     },
     "metadata": {},
     "output_type": "display_data"
    }
   ],
   "source": [
    "every_column_except_y= [col for col in train_data.columns if col not in ['Id']]\n",
    "feat_rank.fit(train_data[every_column_except_y],Target)\n",
    "plt.figure(figsize=[12,400])\n",
    "#print(feat_rank.feature_importances_)\n",
    "# plot\n",
    "#fig, ax = plt.subplots(figsize=(100,12))\n",
    "plot_importance(feat_rank,max_num_features=20)"
   ]
  },
  {
   "cell_type": "code",
   "execution_count": null,
   "metadata": {},
   "outputs": [],
   "source": [
    "#most_imp_features = list( dict((k, v) for k, v in feat_rank.booster().get_fscore().items() if v >= 10).keys())\n",
    "#print(most_imp_features)"
   ]
  },
  {
   "cell_type": "code",
   "execution_count": 103,
   "metadata": {},
   "outputs": [],
   "source": [
    "train_x, test_x, train_y, test_y = model_selection.train_test_split(train_data, Target, test_size = 0.3, random_state = 2)"
   ]
  },
  {
   "cell_type": "code",
   "execution_count": 61,
   "metadata": {},
   "outputs": [],
   "source": [
    "#note: this is an alternative to train_test_split\n",
    "cv_split = model_selection.ShuffleSplit(n_splits = 10, train_size = .7, test_size = .3, \n",
    "                                        random_state = 2)#run model 10 times with 60%train data and 30%test data leaving 10%"
   ]
  },
  {
   "cell_type": "markdown",
   "metadata": {},
   "source": [
    "Training Model\n",
    "--"
   ]
  },
  {
   "cell_type": "code",
   "execution_count": 89,
   "metadata": {},
   "outputs": [],
   "source": [
    "def train_model(train_data):\n",
    "    learning_rate = ['0.06','0.07']\n",
    "    print('Training Model...')\n",
    "    for l in learning_rate:\n",
    "        lr = float(l)\n",
    "        est = ['600','800','1000','1200']\n",
    "        for e in est:\n",
    "            est = int(e)\n",
    "            csbt =['0.2','0.4','0.6']\n",
    "            for c in csbt:\n",
    "                csbt = float(c)\n",
    "                mxd = ['2','3','5','6']\n",
    "                for m in mxd:\n",
    "                    mxd = int(m)\n",
    "                    #grad3 = GradientBoostingRegressor(n_estimators = est, learning_rate = lr)\n",
    "                    grad3 = XGBRegressor(n_estimators = est, learning_rate = lr, colsample_bytree= csbt, max_depth = mxd,\n",
    "                                             seed = 7) \n",
    "                    base_results = model_selection.cross_validate(grad3, train_data, Target, cv = cv_split)\n",
    "                    grad3.fit(train_data, Target, eval_metric='rmse')\n",
    "                    train_score_mean = base_results['train_score'].mean()*100\n",
    "                    test_score_mean = base_results['test_score'].mean()*100\n",
    "                    #rmse = np.sqrt(((base_results['test_score']-base_results['train_score'])**2)).mean()\n",
    "                    rmse = np.sqrt(metrics.mean_squared_error(base_results['test_score'],base_results['train_score']).mean())\n",
    "                    print (\"for lr: {}, est: {}, csbt: {}, mxd: {}, tr_acc: {}, tst_acc: {}, rmse: {}\".format(l, e, c, m, train_score_mean, test_score_mean, rmse))\n",
    "    print(\"Model Training Completed\")  \n",
    "    return grad3"
   ]
  },
  {
   "cell_type": "code",
   "execution_count": null,
   "metadata": {
    "scrolled": false
   },
   "outputs": [],
   "source": [
    "trained_model = train_model(train_data = train_data)"
   ]
  },
  {
   "cell_type": "markdown",
   "metadata": {},
   "source": [
    "Model with best parameters\n",
    "--"
   ]
  },
  {
   "cell_type": "code",
   "execution_count": 110,
   "metadata": {},
   "outputs": [],
   "source": [
    "def best_model(train_data, learning_rate, est):\n",
    "    lr = float(learning_rate)\n",
    "    est = int(est)\n",
    "    print('Training Model...')\n",
    "    #grad3 = GradientBoostingRegressor(n_estimators = est, learning_rate = lr)\n",
    "    bestmod = XGBRegressor(n_estimators = est, learning_rate = lr, colsample_bytree=0.4, max_depth =3, seed=7) #,reg_alpha=0.8,reg_lambda=0.5)\n",
    "    base_results = model_selection.cross_validate(bestmod, train_data, Target, cv = cv_split)\n",
    "    bestmod.fit(train_data, Target, eval_metric='rmse')\n",
    "    train_score_mean = base_results['train_score'].mean()*100\n",
    "    test_score_mean = base_results['test_score'].mean()*100\n",
    "    #rmse = np.sqrt(((base_results['test_score']-base_results['train_score'])**2)).mean()\n",
    "    rmse = np.sqrt(metrics.mean_squared_error(base_results['test_score'],base_results['train_score']).mean())\n",
    "    print (\"for lr: {}, est: {}, tr_acc: {}, tst_acc: {}, rmse: {}\".format(lr, est, train_score_mean, test_score_mean, rmse))\n",
    "    print(\"Model Training Completed\")  \n",
    "    return bestmod"
   ]
  },
  {
   "cell_type": "code",
   "execution_count": 114,
   "metadata": {},
   "outputs": [
    {
     "name": "stdout",
     "output_type": "stream",
     "text": [
      "Training Model...\n",
      "for lr: 0.05, est: 590, tr_acc: 98.74179943476963, tst_acc: 92.28114343820712, rmse: 0.0648622261615432\n",
      "Model Training Completed\n"
     ]
    }
   ],
   "source": [
    "better_model = best_model(train_data = train_data,\n",
    "                           learning_rate = 0.05,\n",
    "                           est = 590)     "
   ]
  },
  {
   "cell_type": "markdown",
   "metadata": {},
   "source": [
    "RMSE\n",
    "--"
   ]
  },
  {
   "cell_type": "code",
   "execution_count": 44,
   "metadata": {},
   "outputs": [],
   "source": [
    "def rmse_cv(model):\n",
    "    rmse = np.sqrt(-cross_val_score(model, train_data, Target, scoring=\"neg_mean_squared_error\", cv = 10))\n",
    "    return(rmse)"
   ]
  },
  {
   "cell_type": "code",
   "execution_count": 45,
   "metadata": {},
   "outputs": [
    {
     "name": "stdout",
     "output_type": "stream",
     "text": [
      "22079.74952129306\n"
     ]
    }
   ],
   "source": [
    "rmse = rmse_cv(better_model).mean()\n",
    "print(rmse)"
   ]
  },
  {
   "cell_type": "markdown",
   "metadata": {},
   "source": [
    "Output Predictions\n",
    "--"
   ]
  },
  {
   "cell_type": "code",
   "execution_count": 115,
   "metadata": {},
   "outputs": [],
   "source": [
    "#predictions 2\n",
    "preds = better_model.predict(test_data)\n",
    "submit = pd.DataFrame({'Id': test_data.index, 'SalePrice': preds})\n",
    "submit.to_csv(f'{PATH2}submission_1108_v2.csv', index=False)"
   ]
  },
  {
   "cell_type": "code",
   "execution_count": null,
   "metadata": {},
   "outputs": [],
   "source": []
  }
 ],
 "metadata": {
  "kernelspec": {
   "display_name": "Python 3",
   "language": "python",
   "name": "python3"
  },
  "language_info": {
   "codemirror_mode": {
    "name": "ipython",
    "version": 3
   },
   "file_extension": ".py",
   "mimetype": "text/x-python",
   "name": "python",
   "nbconvert_exporter": "python",
   "pygments_lexer": "ipython3",
   "version": "3.6.5"
  }
 },
 "nbformat": 4,
 "nbformat_minor": 2
}
