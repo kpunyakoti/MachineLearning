{
 "cells": [
  {
   "cell_type": "code",
   "execution_count": 2,
   "metadata": {},
   "outputs": [],
   "source": [
    "import pandas as pd\n",
    "import numpy as np\n",
    "\n",
    "import scipy as sp\n",
    "import sklearn as sk\n",
    "\n",
    "import random\n",
    "import time\n",
    "from collections import OrderedDict\n",
    "\n",
    "import warnings\n",
    "warnings.filterwarnings('ignore')\n",
    "from subprocess import check_output\n"
   ]
  },
  {
   "cell_type": "code",
   "execution_count": 3,
   "metadata": {},
   "outputs": [],
   "source": [
    "#common model algorithms\n",
    "from sklearn import svm, tree, gaussian_process, linear_model, ensemble\n",
    "from sklearn.ensemble import RandomForestRegressor, GradientBoostingRegressor\n",
    "#from xgboost import XGBRegressor\n",
    "#from xgboost import plot_importance\n",
    "\n",
    "#common model help tools\n",
    "from sklearn import feature_selection\n",
    "from sklearn import model_selection\n",
    "from sklearn import metrics\n",
    "from sklearn.preprocessing import OneHotEncoder, LabelEncoder\n",
    "\n",
    "#Data visualization\n",
    "import matplotlib as mpl\n",
    "import matplotlib.pyplot as plt\n",
    "import matplotlib.pylab as pylab\n",
    "import seaborn as sns\n",
    "\n",
    "from sklearn.model_selection import GridSearchCV\n",
    "from sklearn.model_selection import StratifiedKFold\n",
    "\n",
    "#set visual parameters\n",
    "%matplotlib inline\n",
    "mpl.style.use('ggplot')\n",
    "sns.set_style('white')\n",
    "pylab.rcParams['figure.figsize'] = 16,8"
   ]
  },
  {
   "cell_type": "code",
   "execution_count": 4,
   "metadata": {},
   "outputs": [
    {
     "ename": "FileNotFoundError",
     "evalue": "[Errno 2] File b'C:/Users/kpunyakoti/Desktop/Data Science/Kaggle/Housing Prices/Source Data files/clean2_train_data.csv' does not exist: b'C:/Users/kpunyakoti/Desktop/Data Science/Kaggle/Housing Prices/Source Data files/clean2_train_data.csv'",
     "output_type": "error",
     "traceback": [
      "\u001b[1;31m---------------------------------------------------------------------------\u001b[0m",
      "\u001b[1;31mFileNotFoundError\u001b[0m                         Traceback (most recent call last)",
      "\u001b[1;32m<ipython-input-4-28486ffcfcf8>\u001b[0m in \u001b[0;36m<module>\u001b[1;34m\u001b[0m\n\u001b[0;32m      1\u001b[0m \u001b[0mPATH1\u001b[0m \u001b[1;33m=\u001b[0m \u001b[1;34m\"C:/Users/kpunyakoti/Desktop/Data Science/Kaggle/Housing Prices/Source Data files/\"\u001b[0m   \u001b[1;31m#where you read the files from\u001b[0m\u001b[1;33m\u001b[0m\u001b[1;33m\u001b[0m\u001b[0m\n\u001b[0;32m      2\u001b[0m \u001b[0mPATH2\u001b[0m \u001b[1;33m=\u001b[0m \u001b[1;34m\"C:/Users/kpunyakoti/Desktop/Data Science/Kaggle/Housing Prices/Submissions/\"\u001b[0m   \u001b[1;31m#where you export the files to\u001b[0m\u001b[1;33m\u001b[0m\u001b[1;33m\u001b[0m\u001b[0m\n\u001b[1;32m----> 3\u001b[1;33m \u001b[0mdf_train\u001b[0m \u001b[1;33m=\u001b[0m \u001b[0mpd\u001b[0m\u001b[1;33m.\u001b[0m\u001b[0mread_csv\u001b[0m\u001b[1;33m(\u001b[0m\u001b[1;34mf'{PATH1}clean2_train_data.csv'\u001b[0m\u001b[1;33m,\u001b[0m \u001b[0mindex_col\u001b[0m\u001b[1;33m=\u001b[0m\u001b[1;34m'Id'\u001b[0m\u001b[1;33m)\u001b[0m\u001b[1;33m\u001b[0m\u001b[1;33m\u001b[0m\u001b[0m\n\u001b[0m\u001b[0;32m      4\u001b[0m \u001b[0mdf_test\u001b[0m \u001b[1;33m=\u001b[0m \u001b[0mpd\u001b[0m\u001b[1;33m.\u001b[0m\u001b[0mread_csv\u001b[0m\u001b[1;33m(\u001b[0m\u001b[1;34mf'{PATH1}clean2_test_data.csv'\u001b[0m\u001b[1;33m,\u001b[0m \u001b[0mindex_col\u001b[0m\u001b[1;33m=\u001b[0m\u001b[1;34m'Id'\u001b[0m\u001b[1;33m)\u001b[0m\u001b[1;33m\u001b[0m\u001b[1;33m\u001b[0m\u001b[0m\n\u001b[0;32m      5\u001b[0m \u001b[0mplay_data\u001b[0m \u001b[1;33m=\u001b[0m \u001b[0mdf_train\u001b[0m\u001b[1;33m.\u001b[0m\u001b[0mcopy\u001b[0m\u001b[1;33m(\u001b[0m\u001b[1;33m)\u001b[0m\u001b[1;33m\u001b[0m\u001b[1;33m\u001b[0m\u001b[0m\n",
      "\u001b[1;32mc:\\users\\punyakot\\appdata\\local\\programs\\python\\python37-32\\lib\\site-packages\\pandas\\io\\parsers.py\u001b[0m in \u001b[0;36mparser_f\u001b[1;34m(filepath_or_buffer, sep, delimiter, header, names, index_col, usecols, squeeze, prefix, mangle_dupe_cols, dtype, engine, converters, true_values, false_values, skipinitialspace, skiprows, skipfooter, nrows, na_values, keep_default_na, na_filter, verbose, skip_blank_lines, parse_dates, infer_datetime_format, keep_date_col, date_parser, dayfirst, cache_dates, iterator, chunksize, compression, thousands, decimal, lineterminator, quotechar, quoting, doublequote, escapechar, comment, encoding, dialect, error_bad_lines, warn_bad_lines, delim_whitespace, low_memory, memory_map, float_precision)\u001b[0m\n\u001b[0;32m    683\u001b[0m         )\n\u001b[0;32m    684\u001b[0m \u001b[1;33m\u001b[0m\u001b[0m\n\u001b[1;32m--> 685\u001b[1;33m         \u001b[1;32mreturn\u001b[0m \u001b[0m_read\u001b[0m\u001b[1;33m(\u001b[0m\u001b[0mfilepath_or_buffer\u001b[0m\u001b[1;33m,\u001b[0m \u001b[0mkwds\u001b[0m\u001b[1;33m)\u001b[0m\u001b[1;33m\u001b[0m\u001b[1;33m\u001b[0m\u001b[0m\n\u001b[0m\u001b[0;32m    686\u001b[0m \u001b[1;33m\u001b[0m\u001b[0m\n\u001b[0;32m    687\u001b[0m     \u001b[0mparser_f\u001b[0m\u001b[1;33m.\u001b[0m\u001b[0m__name__\u001b[0m \u001b[1;33m=\u001b[0m \u001b[0mname\u001b[0m\u001b[1;33m\u001b[0m\u001b[1;33m\u001b[0m\u001b[0m\n",
      "\u001b[1;32mc:\\users\\punyakot\\appdata\\local\\programs\\python\\python37-32\\lib\\site-packages\\pandas\\io\\parsers.py\u001b[0m in \u001b[0;36m_read\u001b[1;34m(filepath_or_buffer, kwds)\u001b[0m\n\u001b[0;32m    455\u001b[0m \u001b[1;33m\u001b[0m\u001b[0m\n\u001b[0;32m    456\u001b[0m     \u001b[1;31m# Create the parser.\u001b[0m\u001b[1;33m\u001b[0m\u001b[1;33m\u001b[0m\u001b[1;33m\u001b[0m\u001b[0m\n\u001b[1;32m--> 457\u001b[1;33m     \u001b[0mparser\u001b[0m \u001b[1;33m=\u001b[0m \u001b[0mTextFileReader\u001b[0m\u001b[1;33m(\u001b[0m\u001b[0mfp_or_buf\u001b[0m\u001b[1;33m,\u001b[0m \u001b[1;33m**\u001b[0m\u001b[0mkwds\u001b[0m\u001b[1;33m)\u001b[0m\u001b[1;33m\u001b[0m\u001b[1;33m\u001b[0m\u001b[0m\n\u001b[0m\u001b[0;32m    458\u001b[0m \u001b[1;33m\u001b[0m\u001b[0m\n\u001b[0;32m    459\u001b[0m     \u001b[1;32mif\u001b[0m \u001b[0mchunksize\u001b[0m \u001b[1;32mor\u001b[0m \u001b[0miterator\u001b[0m\u001b[1;33m:\u001b[0m\u001b[1;33m\u001b[0m\u001b[1;33m\u001b[0m\u001b[0m\n",
      "\u001b[1;32mc:\\users\\punyakot\\appdata\\local\\programs\\python\\python37-32\\lib\\site-packages\\pandas\\io\\parsers.py\u001b[0m in \u001b[0;36m__init__\u001b[1;34m(self, f, engine, **kwds)\u001b[0m\n\u001b[0;32m    893\u001b[0m             \u001b[0mself\u001b[0m\u001b[1;33m.\u001b[0m\u001b[0moptions\u001b[0m\u001b[1;33m[\u001b[0m\u001b[1;34m\"has_index_names\"\u001b[0m\u001b[1;33m]\u001b[0m \u001b[1;33m=\u001b[0m \u001b[0mkwds\u001b[0m\u001b[1;33m[\u001b[0m\u001b[1;34m\"has_index_names\"\u001b[0m\u001b[1;33m]\u001b[0m\u001b[1;33m\u001b[0m\u001b[1;33m\u001b[0m\u001b[0m\n\u001b[0;32m    894\u001b[0m \u001b[1;33m\u001b[0m\u001b[0m\n\u001b[1;32m--> 895\u001b[1;33m         \u001b[0mself\u001b[0m\u001b[1;33m.\u001b[0m\u001b[0m_make_engine\u001b[0m\u001b[1;33m(\u001b[0m\u001b[0mself\u001b[0m\u001b[1;33m.\u001b[0m\u001b[0mengine\u001b[0m\u001b[1;33m)\u001b[0m\u001b[1;33m\u001b[0m\u001b[1;33m\u001b[0m\u001b[0m\n\u001b[0m\u001b[0;32m    896\u001b[0m \u001b[1;33m\u001b[0m\u001b[0m\n\u001b[0;32m    897\u001b[0m     \u001b[1;32mdef\u001b[0m \u001b[0mclose\u001b[0m\u001b[1;33m(\u001b[0m\u001b[0mself\u001b[0m\u001b[1;33m)\u001b[0m\u001b[1;33m:\u001b[0m\u001b[1;33m\u001b[0m\u001b[1;33m\u001b[0m\u001b[0m\n",
      "\u001b[1;32mc:\\users\\punyakot\\appdata\\local\\programs\\python\\python37-32\\lib\\site-packages\\pandas\\io\\parsers.py\u001b[0m in \u001b[0;36m_make_engine\u001b[1;34m(self, engine)\u001b[0m\n\u001b[0;32m   1133\u001b[0m     \u001b[1;32mdef\u001b[0m \u001b[0m_make_engine\u001b[0m\u001b[1;33m(\u001b[0m\u001b[0mself\u001b[0m\u001b[1;33m,\u001b[0m \u001b[0mengine\u001b[0m\u001b[1;33m=\u001b[0m\u001b[1;34m\"c\"\u001b[0m\u001b[1;33m)\u001b[0m\u001b[1;33m:\u001b[0m\u001b[1;33m\u001b[0m\u001b[1;33m\u001b[0m\u001b[0m\n\u001b[0;32m   1134\u001b[0m         \u001b[1;32mif\u001b[0m \u001b[0mengine\u001b[0m \u001b[1;33m==\u001b[0m \u001b[1;34m\"c\"\u001b[0m\u001b[1;33m:\u001b[0m\u001b[1;33m\u001b[0m\u001b[1;33m\u001b[0m\u001b[0m\n\u001b[1;32m-> 1135\u001b[1;33m             \u001b[0mself\u001b[0m\u001b[1;33m.\u001b[0m\u001b[0m_engine\u001b[0m \u001b[1;33m=\u001b[0m \u001b[0mCParserWrapper\u001b[0m\u001b[1;33m(\u001b[0m\u001b[0mself\u001b[0m\u001b[1;33m.\u001b[0m\u001b[0mf\u001b[0m\u001b[1;33m,\u001b[0m \u001b[1;33m**\u001b[0m\u001b[0mself\u001b[0m\u001b[1;33m.\u001b[0m\u001b[0moptions\u001b[0m\u001b[1;33m)\u001b[0m\u001b[1;33m\u001b[0m\u001b[1;33m\u001b[0m\u001b[0m\n\u001b[0m\u001b[0;32m   1136\u001b[0m         \u001b[1;32melse\u001b[0m\u001b[1;33m:\u001b[0m\u001b[1;33m\u001b[0m\u001b[1;33m\u001b[0m\u001b[0m\n\u001b[0;32m   1137\u001b[0m             \u001b[1;32mif\u001b[0m \u001b[0mengine\u001b[0m \u001b[1;33m==\u001b[0m \u001b[1;34m\"python\"\u001b[0m\u001b[1;33m:\u001b[0m\u001b[1;33m\u001b[0m\u001b[1;33m\u001b[0m\u001b[0m\n",
      "\u001b[1;32mc:\\users\\punyakot\\appdata\\local\\programs\\python\\python37-32\\lib\\site-packages\\pandas\\io\\parsers.py\u001b[0m in \u001b[0;36m__init__\u001b[1;34m(self, src, **kwds)\u001b[0m\n\u001b[0;32m   1915\u001b[0m         \u001b[0mkwds\u001b[0m\u001b[1;33m[\u001b[0m\u001b[1;34m\"usecols\"\u001b[0m\u001b[1;33m]\u001b[0m \u001b[1;33m=\u001b[0m \u001b[0mself\u001b[0m\u001b[1;33m.\u001b[0m\u001b[0musecols\u001b[0m\u001b[1;33m\u001b[0m\u001b[1;33m\u001b[0m\u001b[0m\n\u001b[0;32m   1916\u001b[0m \u001b[1;33m\u001b[0m\u001b[0m\n\u001b[1;32m-> 1917\u001b[1;33m         \u001b[0mself\u001b[0m\u001b[1;33m.\u001b[0m\u001b[0m_reader\u001b[0m \u001b[1;33m=\u001b[0m \u001b[0mparsers\u001b[0m\u001b[1;33m.\u001b[0m\u001b[0mTextReader\u001b[0m\u001b[1;33m(\u001b[0m\u001b[0msrc\u001b[0m\u001b[1;33m,\u001b[0m \u001b[1;33m**\u001b[0m\u001b[0mkwds\u001b[0m\u001b[1;33m)\u001b[0m\u001b[1;33m\u001b[0m\u001b[1;33m\u001b[0m\u001b[0m\n\u001b[0m\u001b[0;32m   1918\u001b[0m         \u001b[0mself\u001b[0m\u001b[1;33m.\u001b[0m\u001b[0munnamed_cols\u001b[0m \u001b[1;33m=\u001b[0m \u001b[0mself\u001b[0m\u001b[1;33m.\u001b[0m\u001b[0m_reader\u001b[0m\u001b[1;33m.\u001b[0m\u001b[0munnamed_cols\u001b[0m\u001b[1;33m\u001b[0m\u001b[1;33m\u001b[0m\u001b[0m\n\u001b[0;32m   1919\u001b[0m \u001b[1;33m\u001b[0m\u001b[0m\n",
      "\u001b[1;32mpandas\\_libs\\parsers.pyx\u001b[0m in \u001b[0;36mpandas._libs.parsers.TextReader.__cinit__\u001b[1;34m()\u001b[0m\n",
      "\u001b[1;32mpandas\\_libs\\parsers.pyx\u001b[0m in \u001b[0;36mpandas._libs.parsers.TextReader._setup_parser_source\u001b[1;34m()\u001b[0m\n",
      "\u001b[1;31mFileNotFoundError\u001b[0m: [Errno 2] File b'C:/Users/kpunyakoti/Desktop/Data Science/Kaggle/Housing Prices/Source Data files/clean2_train_data.csv' does not exist: b'C:/Users/kpunyakoti/Desktop/Data Science/Kaggle/Housing Prices/Source Data files/clean2_train_data.csv'"
     ]
    }
   ],
   "source": [
    "PATH1 = \"C:/Users/kpunyakoti/Desktop/Data Science/Kaggle/Housing Prices/Source Data files/\"   #where you read the files from\n",
    "PATH2 = \"C:/Users/kpunyakoti/Desktop/Data Science/Kaggle/Housing Prices/Submissions/\"   #where you export the files to\n",
    "df_train = pd.read_csv(f'{PATH1}clean2_train_data.csv', index_col='Id')\n",
    "df_test = pd.read_csv(f'{PATH1}clean2_test_data.csv', index_col='Id')\n",
    "play_data = df_train.copy()"
   ]
  },
  {
   "cell_type": "code",
   "execution_count": 24,
   "metadata": {},
   "outputs": [],
   "source": [
    "#define y variable aka target/outcome\n",
    "Target = play_data['SalePrice']\n",
    "train_data = play_data.drop('SalePrice', axis=1)\n",
    "test_data = df_test.copy()"
   ]
  },
  {
   "cell_type": "code",
   "execution_count": 25,
   "metadata": {},
   "outputs": [
    {
     "name": "stdout",
     "output_type": "stream",
     "text": [
      "(1459, 77)\n",
      "(1460, 77)\n"
     ]
    }
   ],
   "source": [
    "print(test_data.shape)\n",
    "print(train_data.shape)\n",
    "#test_data = test_data.drop('SalePrice', axis =1)"
   ]
  },
  {
   "cell_type": "code",
   "execution_count": 26,
   "metadata": {},
   "outputs": [],
   "source": [
    "train_data['trainingset'] = True\n",
    "test_data['trainingset'] = False\n",
    "df_full = pd.concat([train_data, test_data])\n",
    "df_full['GarageYrBlt'] = df_full['GarageYrBlt'].astype(str)"
   ]
  },
  {
   "cell_type": "code",
   "execution_count": 349,
   "metadata": {},
   "outputs": [],
   "source": [
    "cat_cols = ['MSSubClass','OverallQual','OverallCond','BsmtFullBath','FullBath','BsmtHalfBath','HalfBath',\n",
    "           'BedroomAbvGr','TotRmsAbvGrd','KitchenAbvGr','Fireplaces','GarageCars', 'GarageYrBlt']\n",
    "for x in cat_cols:\n",
    "    df_full[x] = df_full[x].apply(str) "
   ]
  },
  {
   "cell_type": "code",
   "execution_count": 27,
   "metadata": {},
   "outputs": [],
   "source": [
    "df_full = df_full.interpolate()\n",
    "df_full = pd.get_dummies(df_full)\n",
    "\n",
    "train_data = df_full[df_full['trainingset']== True]\n",
    "train_data = train_data.drop('trainingset', axis=1)\n",
    "test_data = df_full[df_full['trainingset']== False]\n",
    "test_data = test_data.drop('trainingset', axis=1)\n"
   ]
  },
  {
   "cell_type": "code",
   "execution_count": 28,
   "metadata": {},
   "outputs": [
    {
     "name": "stdout",
     "output_type": "stream",
     "text": [
      "(1460, 404)\n",
      "(1459, 404)\n"
     ]
    }
   ],
   "source": [
    "print(train_data.shape)\n",
    "print(test_data.shape)"
   ]
  },
  {
   "cell_type": "markdown",
   "metadata": {},
   "source": [
    "Feature Ranking\n",
    "--"
   ]
  },
  {
   "cell_type": "code",
   "execution_count": 223,
   "metadata": {},
   "outputs": [],
   "source": [
    "feat_rank = XGBRegressor(colsample_bytree=0.4,\n",
    "                 gamma=0,                 \n",
    "                 learning_rate=0.07,\n",
    "                 max_depth=3,\n",
    "                 min_child_weight=1.5,\n",
    "                 n_estimators=10000,                                                                    \n",
    "                 reg_alpha=0.75,\n",
    "                 reg_lambda=0.45,\n",
    "                 subsample=0.6,\n",
    "                 seed=42) "
   ]
  },
  {
   "cell_type": "code",
   "execution_count": 224,
   "metadata": {
    "scrolled": false
   },
   "outputs": [
    {
     "data": {
      "text/plain": [
       "<matplotlib.axes._subplots.AxesSubplot at 0x179d8967828>"
      ]
     },
     "execution_count": 224,
     "metadata": {},
     "output_type": "execute_result"
    },
    {
     "data": {
      "text/plain": [
       "<Figure size 864x28800 with 0 Axes>"
      ]
     },
     "metadata": {},
     "output_type": "display_data"
    },
    {
     "data": {
      "image/png": "[encoded data removed]",
      "text/plain": [
       "<Figure size 1152x576 with 1 Axes>"
      ]
     },
     "metadata": {},
     "output_type": "display_data"
    }
   ],
   "source": [
    "every_column_except_y= [col for col in train_data.columns if col not in ['Id']]\n",
    "feat_rank.fit(train_data[every_column_except_y],Target)\n",
    "plt.figure(figsize=[12,400])\n",
    "#print(feat_rank.feature_importances_)\n",
    "# plot\n",
    "plot_importance(feat_rank,max_num_features=25)"
   ]
  },
  {
   "cell_type": "code",
   "execution_count": null,
   "metadata": {},
   "outputs": [],
   "source": [
    "most_imp_features = list( dict((k, v) for k, v in feat_rank.booster().get_fscore().items() if v >= 10).keys())\n",
    "print(most_imp_features)"
   ]
  },
  {
   "cell_type": "markdown",
   "metadata": {},
   "source": [
    "Model Comparision\n",
    "--"
   ]
  },
  {
   "cell_type": "code",
   "execution_count": 111,
   "metadata": {},
   "outputs": [],
   "source": [
    "MLA = [\n",
    "    #Ensemble Methods\n",
    "    ensemble.AdaBoostRegressor(),\n",
    "    ensemble.GradientBoostingRegressor(),\n",
    "    ensemble.RandomForestRegressor(),\n",
    "    #Gaussian Processes\n",
    "    #gaussian_process.GaussianProcessRegressor(),  \n",
    "    #GLM\n",
    "    #linear_model.LinearRegression(),\n",
    "    #linear_model.Lasso(),\n",
    "    linear_model.RidgeCV(),\n",
    "    linear_model.ElasticNetCV(),    \n",
    "    #Trees\n",
    "    tree.DecisionTreeRegressor()\n",
    "]"
   ]
  },
  {
   "cell_type": "code",
   "execution_count": 29,
   "metadata": {},
   "outputs": [],
   "source": [
    "#note: this is an alternative to train_test_split\n",
    "cv_split = model_selection.ShuffleSplit(n_splits = 20, train_size = .7, test_size = .3, \n",
    "                                        random_state = 0)#run model 10 times with 60%train data and 30%test data leaving 10%"
   ]
  },
  {
   "cell_type": "code",
   "execution_count": 240,
   "metadata": {
    "scrolled": false
   },
   "outputs": [
    {
     "data": {
      "text/html": [
       "<div>\n",
       "<style scoped>\n",
       "    .dataframe tbody tr th:only-of-type {\n",
       "        vertical-align: middle;\n",
       "    }\n",
       "\n",
       "    .dataframe tbody tr th {\n",
       "        vertical-align: top;\n",
       "    }\n",
       "\n",
       "    .dataframe thead th {\n",
       "        text-align: right;\n",
       "    }\n",
       "</style>\n",
       "<table border=\"1\" class=\"dataframe\">\n",
       "  <thead>\n",
       "    <tr style=\"text-align: right;\">\n",
       "      <th></th>\n",
       "      <th>MLA Name</th>\n",
       "      <th>MLA Parameters</th>\n",
       "      <th>MLA Train Accuracy Mean</th>\n",
       "      <th>MLA Test Accuracy Mean</th>\n",
       "      <th>MLA Test Accuracy 3*STD</th>\n",
       "      <th>MLA Time</th>\n",
       "      <th>MLA RMSE</th>\n",
       "    </tr>\n",
       "  </thead>\n",
       "  <tbody>\n",
       "    <tr>\n",
       "      <th>1</th>\n",
       "      <td>GradientBoostingRegressor</td>\n",
       "      <td>{'alpha': 0.9, 'criterion': 'friedman_mse', 'i...</td>\n",
       "      <td>0.972457</td>\n",
       "      <td>0.916427</td>\n",
       "      <td>0.0272727</td>\n",
       "      <td>0.929669</td>\n",
       "      <td>0.0568985</td>\n",
       "    </tr>\n",
       "    <tr>\n",
       "      <th>3</th>\n",
       "      <td>RidgeCV</td>\n",
       "      <td>{'alphas': (0.1, 1.0, 10.0), 'cv': None, 'fit_...</td>\n",
       "      <td>0.939584</td>\n",
       "      <td>0.8963</td>\n",
       "      <td>0.0534983</td>\n",
       "      <td>0.232063</td>\n",
       "      <td>0.0475837</td>\n",
       "    </tr>\n",
       "    <tr>\n",
       "      <th>2</th>\n",
       "      <td>RandomForestRegressor</td>\n",
       "      <td>{'bootstrap': True, 'criterion': 'mse', 'max_d...</td>\n",
       "      <td>0.977401</td>\n",
       "      <td>0.87825</td>\n",
       "      <td>0.0446247</td>\n",
       "      <td>0.316594</td>\n",
       "      <td>0.100235</td>\n",
       "    </tr>\n",
       "    <tr>\n",
       "      <th>0</th>\n",
       "      <td>AdaBoostRegressor</td>\n",
       "      <td>{'base_estimator': None, 'learning_rate': 1.0,...</td>\n",
       "      <td>0.891477</td>\n",
       "      <td>0.838619</td>\n",
       "      <td>0.039282</td>\n",
       "      <td>0.549501</td>\n",
       "      <td>0.0550274</td>\n",
       "    </tr>\n",
       "    <tr>\n",
       "      <th>5</th>\n",
       "      <td>DecisionTreeRegressor</td>\n",
       "      <td>{'criterion': 'mse', 'max_depth': None, 'max_f...</td>\n",
       "      <td>1</td>\n",
       "      <td>0.766447</td>\n",
       "      <td>0.136824</td>\n",
       "      <td>0.0497308</td>\n",
       "      <td>0.237964</td>\n",
       "    </tr>\n",
       "    <tr>\n",
       "      <th>4</th>\n",
       "      <td>ElasticNetCV</td>\n",
       "      <td>{'alphas': None, 'copy_X': True, 'cv': None, '...</td>\n",
       "      <td>0.665445</td>\n",
       "      <td>0.662126</td>\n",
       "      <td>0.0730645</td>\n",
       "      <td>0.20997</td>\n",
       "      <td>0.026899</td>\n",
       "    </tr>\n",
       "  </tbody>\n",
       "</table>\n",
       "</div>"
      ],
      "text/plain": [
       "                    MLA Name  \\\n",
       "1  GradientBoostingRegressor   \n",
       "3                    RidgeCV   \n",
       "2      RandomForestRegressor   \n",
       "0          AdaBoostRegressor   \n",
       "5      DecisionTreeRegressor   \n",
       "4               ElasticNetCV   \n",
       "\n",
       "                                      MLA Parameters MLA Train Accuracy Mean  \\\n",
       "1  {'alpha': 0.9, 'criterion': 'friedman_mse', 'i...                0.972457   \n",
       "3  {'alphas': (0.1, 1.0, 10.0), 'cv': None, 'fit_...                0.939584   \n",
       "2  {'bootstrap': True, 'criterion': 'mse', 'max_d...                0.977401   \n",
       "0  {'base_estimator': None, 'learning_rate': 1.0,...                0.891477   \n",
       "5  {'criterion': 'mse', 'max_depth': None, 'max_f...                       1   \n",
       "4  {'alphas': None, 'copy_X': True, 'cv': None, '...                0.665445   \n",
       "\n",
       "  MLA Test Accuracy Mean MLA Test Accuracy 3*STD   MLA Time   MLA RMSE  \n",
       "1               0.916427               0.0272727   0.929669  0.0568985  \n",
       "3                 0.8963               0.0534983   0.232063  0.0475837  \n",
       "2                0.87825               0.0446247   0.316594   0.100235  \n",
       "0               0.838619                0.039282   0.549501  0.0550274  \n",
       "5               0.766447                0.136824  0.0497308   0.237964  \n",
       "4               0.662126               0.0730645    0.20997   0.026899  "
      ]
     },
     "execution_count": 240,
     "metadata": {},
     "output_type": "execute_result"
    }
   ],
   "source": [
    "#create table to compare MLA metrics\n",
    "MLA_columns = ['MLA Name', 'MLA Parameters', 'MLA Train Accuracy Mean', 'MLA Test Accuracy Mean', \n",
    "               'MLA Test Accuracy 3*STD', 'MLA Time', 'MLA RMSE']\n",
    "MLA_compare = pd.DataFrame(columns=MLA_columns)\n",
    "#create table for MLA Predict\n",
    "MLA_predict = Target\n",
    "#index through MLA and ave performance to table\n",
    "row_index=0\n",
    "for alg in MLA:          \n",
    "    MLA_name = alg.__class__.__name__\n",
    "    MLA_compare.loc[row_index, 'MLA Name'] = MLA_name    \n",
    "    MLA_compare.loc[row_index, 'MLA Parameters'] = str(alg.get_params()) #set name and params\n",
    "        #score model with cross validation\n",
    "    cv_results = model_selection.cross_validate(alg, train_data, Target, cv=cv_split)    \n",
    "    MLA_compare.loc[row_index, 'MLA Time'] = cv_results['fit_time'].mean()\n",
    "    MLA_compare.loc[row_index, 'MLA Train Accuracy Mean'] = cv_results['train_score'].mean()\n",
    "    MLA_compare.loc[row_index, 'MLA Test Accuracy Mean'] = cv_results['test_score'].mean()\n",
    "        #if this is a non-bias random sample, then +/-3 standard deviations (std) from the mean, \n",
    "        #should statistically capture 99.7% of the subsets\n",
    "    MLA_compare.loc[row_index, 'MLA Test Accuracy 3*STD'] = cv_results['test_score'].std()*3\n",
    "    MLA_compare.loc[row_index, 'MLA RMSE'] = np.sqrt(((cv_results['test_score']-cv_results['train_score'])**2).mean())    \n",
    "    alg.fit(train_data, Target)\n",
    "    MLA_predict = alg.predict(train_data)    \n",
    "    row_index+=1\n",
    "#print and sort table\n",
    "\n",
    "MLA_compare.sort_values(by = ['MLA Test Accuracy Mean'], ascending = False, inplace=True)\n",
    "MLA_compare"
   ]
  },
  {
   "cell_type": "code",
   "execution_count": null,
   "metadata": {},
   "outputs": [],
   "source": [
    "#barplot for Test Accuracy Mean\n",
    "plt.subplots(figsize=[12,6])\n",
    "sns.barplot(x='MLA RMSE', y='MLA Name', data=MLA_compare, color = 'c')\n",
    "\n",
    "plt.title('Machine Learning Algorithm Accuracy score \\n')\n",
    "plt.xlabel('RMSE Score')\n",
    "plt.ylabel('Algorithm')"
   ]
  },
  {
   "cell_type": "markdown",
   "metadata": {},
   "source": [
    "Tuning\n",
    "--"
   ]
  },
  {
   "cell_type": "code",
   "execution_count": null,
   "metadata": {
    "scrolled": false
   },
   "outputs": [],
   "source": [
    "#tune gradientboostingregressor to tune the model\n",
    "\n",
    "grad = GradientBoostingRegressor()\n",
    "base_results = model_selection.cross_validate(grad, train_data, Target, cv = cv_split)\n",
    "grad.fit(train_data, Target)\n",
    "\n",
    "print('-----Before Tuning-----')\n",
    "print('parameters:', grad.get_params())\n",
    "print('Training score mean: {:,.2f}'.format(base_results['train_score'].mean()*100))\n",
    "print('Test score mean: {:,.2f}'.format(base_results['test_score'].mean()*100))\n",
    "print('RMSE: {:,.4f}'.format(np.sqrt(((base_results['test_score']-base_results['train_score'])**2).mean())))\n",
    "print('-'*20)\n",
    "print('-'*20)\n",
    "\n",
    "# Use a grid over parameters of interest\n",
    "\"\"\"\"param_grid = {\"criterion\": ['friedman_mse','mse'],\n",
    "              \"n_estimators\" : [32, 64, 100, 150, 200],\n",
    "              #\"learning_rate\" : [1, 0.5, 0.25, 0.1, 0.05, 0.01],\n",
    "           \"max_depth\" : [5, 10, 15],\n",
    "           \"min_samples_leaf\" : [1, 2],\n",
    "             \"min_samples_split\" : [2,4,8,10]}\n",
    "\n",
    "\n",
    "tuned_model2 = GradientBoostingRegressor()\n",
    "tuned_model2 = model_selection.GridSearchCV(tuned_model, \n",
    "                                          param_grid=param_grid, cv = cv_split)\n",
    "tuned_model2.fit(train_data,Target)\n",
    "print('-----After Tuning-----')\n",
    "print('parameters:', new_tuned_model.best_params_)\n",
    "print('Training score mean: {:,.2f}'.format(tuned_model2.cv_results_['mean_train_score'][tuned_model2.best_index_].mean()*100))\n",
    "print('Test score mean: {:,.2f}'.format(tuned_model2.cv_results_['mean_test_score'][tuned_model2.best_index_].mean()*100))\n",
    "print('RMSE: {:,.4f}'.format(np.sqrt(((tuned_model2['test_score']-tuned_model2['train_score'])**2).mean())))\n",
    "print('-'*20)\"\"\""
   ]
  },
  {
   "cell_type": "code",
   "execution_count": 142,
   "metadata": {},
   "outputs": [
    {
     "name": "stdout",
     "output_type": "stream",
     "text": [
      "-----Tuned Model-----\n",
      "parameters: {'alpha': 0.9, 'criterion': 'friedman_mse', 'init': None, 'learning_rate': 0.1, 'loss': 'ls', 'max_depth': 3, 'max_features': None, 'max_leaf_nodes': None, 'min_impurity_decrease': 0.0, 'min_impurity_split': None, 'min_samples_leaf': 1, 'min_samples_split': 2, 'min_weight_fraction_leaf': 0.0, 'n_estimators': 100, 'presort': 'auto', 'random_state': None, 'subsample': 1.0, 'verbose': 0, 'warm_start': False}\n",
      "Training score mean: 97.66\n",
      "Test score mean: 91.27\n",
      "RMSE: 0.0644\n",
      "--------------------\n",
      "--------------------\n"
     ]
    }
   ],
   "source": [
    "grad2 = GradientBoostingRegressor(criterion = 'friedman_mse', n_estimators = 120, max_depth = 3, loss = 'ls',\n",
    "                                  min_samples_leaf = 1, min_samples_split =2, learning_rate = 0.09)\n",
    "base_results = model_selection.cross_validate(grad2, train_data, Target, cv = cv_split)\n",
    "grad2.fit(train_data, Target)\n",
    "\n",
    "print('-----Tuned Model-----')\n",
    "print('parameters:', grad.get_params())\n",
    "print('Training score mean: {:,.2f}'.format(base_results['train_score'].mean()*100))\n",
    "print('Test score mean: {:,.2f}'.format(base_results['test_score'].mean()*100))\n",
    "print('RMSE: {:,.4f}'.format(np.sqrt(((base_results['test_score']-base_results['train_score'])**2).mean())))\n",
    "print('-'*20)\n",
    "print('-'*20)\n",
    "\n",
    "\n"
   ]
  },
  {
   "cell_type": "markdown",
   "metadata": {},
   "source": [
    "Another way of training Model\n",
    "--"
   ]
  },
  {
   "cell_type": "code",
   "execution_count": 30,
   "metadata": {},
   "outputs": [],
   "source": [
    "def train_model(train_data, learning_rate, est):\n",
    "    lr = float(learning_rate)\n",
    "    est = int(est)\n",
    "    print('Training Model...')\n",
    "    #grad3 = GradientBoostingRegressor(n_estimators = est, learning_rate = lr)\n",
    "    model = XGBRegressor(n_estimators = est, learning_rate = lr)\n",
    "    \"\"\"\"colsample_bytree=0.4,\n",
    "                 gamma=0,                 \n",
    "                # learning_rate=lr,\n",
    "                 max_depth=3,\n",
    "                 min_child_weight=1.5,\n",
    "                # n_estimators=est,                                                                    \n",
    "                 reg_alpha=0.75,\n",
    "                 reg_lambda=0.45,\n",
    "                 subsample=0.6,\n",
    "                 seed=42)\"\"\"\n",
    "    base_results = model_selection.cross_validate(model, train_data, Target, cv = cv_split)\n",
    "    #for period in range(0, period):\n",
    "        #for i in range(int(steps_per_period)):         \n",
    "    model.fit(train_data, Target)\n",
    "    train_score_mean = base_results['train_score'].mean()*100\n",
    "    test_score_mean = base_results['test_score'].mean()*100\n",
    "    rmse = np.sqrt(((base_results['test_score']-base_results['train_score'])**2).mean())\n",
    "    print (\"train_acc: {}, test_acc: {}, rmse: {}\".format(train_score_mean, test_score_mean, rmse))\n",
    "    print(\"Model Training Completed\")  \n",
    "    return model"
   ]
  },
  {
   "cell_type": "code",
   "execution_count": 32,
   "metadata": {
    "scrolled": false
   },
   "outputs": [
    {
     "name": "stdout",
     "output_type": "stream",
     "text": [
      "Training Model...\n",
      "train_acc: 99.55086556921943, test_acc: 87.40830273645255, rmse: 0.13368085559879225\n",
      "Model Training Completed\n"
     ]
    }
   ],
   "source": [
    "trained_model = train_model(train_data = train_data, \n",
    "                           learning_rate = 0.07,\n",
    "                           est = 900)     "
   ]
  },
  {
   "cell_type": "code",
   "execution_count": null,
   "metadata": {},
   "outputs": [],
   "source": [
    "train_data.to_csv(f'{PATH2}train_data_interpol.csv', index=False)"
   ]
  },
  {
   "cell_type": "markdown",
   "metadata": {},
   "source": [
    "Output Predictions\n",
    "--"
   ]
  },
  {
   "cell_type": "code",
   "execution_count": 121,
   "metadata": {},
   "outputs": [],
   "source": [
    "#predictions 1\n",
    "preds = tuned_model.predict(test_data)\n",
    "submit = pd.DataFrame({'Id': test_data.index, 'SalePrice': preds})\n",
    "submit.to_csv(f'{PATH2}submission_1105_v2.csv', index=False)"
   ]
  },
  {
   "cell_type": "code",
   "execution_count": 344,
   "metadata": {},
   "outputs": [],
   "source": [
    "#predictions 2\n",
    "preds = trained_model.predict(test_data)\n",
    "submit = pd.DataFrame({'Id': test_data.index, 'SalePrice': preds})\n",
    "submit.to_csv(f'{PATH2}submission_1106_v2.csv', index=False)"
   ]
  },
  {
   "cell_type": "markdown",
   "metadata": {},
   "source": [
    "Feature Selection (optional)\n",
    "--"
   ]
  },
  {
   "cell_type": "code",
   "execution_count": null,
   "metadata": {
    "scrolled": false
   },
   "outputs": [],
   "source": [
    "#select only required features using RFE \n",
    "grad4 = GradientBoostingRegressor()\n",
    "base_results = model_selection.cross_validate(grad4, train_data, Target, cv = cv_split)\n",
    "grad.fit(train_data, Target)\n",
    "\n",
    "print('Before GradBst RFE Training shape', train_data.shape)\n",
    "print('Before GradBst RFE Training Features', train_data.columns.values)\n",
    "\n",
    "print('Before GradBst Training w/bin score mean: {:,.2f}'.format(base_results['train_score'].mean()*100))\n",
    "print('Before GradBst Test w/bin score mean: {:,.2f}'.format(base_results['test_score'].mean()*100))\n",
    "print('Before GradBst Test RMSE:  {:,.4f}'.format(np.sqrt(((base_results['test_score']-base_results['train_score'])**2).mean())))\n",
    "print('-'*20)\n",
    "\n",
    "#feature_selection\n",
    "grad_rfe = feature_selection.RFECV(grad, step =1,  cv = cv_split)\n",
    "grad_rfe.fit(train_data, Target) #alternatively, you can use pipeline to redue features\n",
    "\n",
    "x_rfe = train_data.columns.values[grad_rfe.get_support()]\n",
    "rfe_results = model_selection.cross_validate(grad_rfe, train_data[x_rfe], Target, cv=cv_split)\n",
    "\n",
    "print('After GradBst RFE New shape', train_data[x_rfe].shape)\n",
    "print('After GradBst RFE New Features', x_rfe)\n",
    "\n",
    "print('After GradBst RFE Training w/bin score mean: {:,.2f}'.format(rfe_results['train_score'].mean()*100))\n",
    "print('After GradBst RFE Test w/bin score mean: {:,.2f}'.format(rfe_results['test_score'].mean()*100))\n",
    "print('After GradBst RFE Test RMSE:  {:,.4f}'.format(np.sqrt(((rfe_results['test_score']-rfe_results['train_score'])**2).mean())))\n",
    "print('-'*20)\n"
   ]
  },
  {
   "cell_type": "code",
   "execution_count": null,
   "metadata": {},
   "outputs": [],
   "source": []
  }
 ],
 "metadata": {
  "kernelspec": {
   "display_name": "Python 3",
   "language": "python",
   "name": "python3"
  },
  "language_info": {
   "codemirror_mode": {
    "name": "ipython",
    "version": 3
   },
   "file_extension": ".py",
   "mimetype": "text/x-python",
   "name": "python",
   "nbconvert_exporter": "python",
   "pygments_lexer": "ipython3",
   "version": "3.7.4"
  }
 },
 "nbformat": 4,
 "nbformat_minor": 2
}
