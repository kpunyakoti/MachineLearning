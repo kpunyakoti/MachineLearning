{
 "cells": [
  {
   "cell_type": "markdown",
   "metadata": {},
   "source": [
    "IMPORT LIBRARIES"
   ]
  },
  {
   "cell_type": "code",
   "execution_count": 19,
   "metadata": {},
   "outputs": [],
   "source": [
    "import pandas as pd\n",
    "import numpy as np\n",
    "\n",
    "import scipy as sp\n",
    "import sklearn as sk\n",
    "\n",
    "import random\n",
    "import time\n",
    "\n",
    "import warnings\n",
    "warnings.filterwarnings('ignore')\n",
    "from subprocess import check_output\n"
   ]
  },
  {
   "cell_type": "code",
   "execution_count": 21,
   "metadata": {},
   "outputs": [],
   "source": [
    "#common model algorithms\n",
    "from sklearn import svm, tree, gaussian_process, linear_model, ensemble\n",
    "\n",
    "#common model help tools\n",
    "from sklearn import feature_selection\n",
    "from sklearn import model_selection\n",
    "from sklearn import metrics\n",
    "from sklearn.preprocessing import OneHotEncoder, LabelEncoder\n",
    "\n",
    "#Data visualization\n",
    "import matplotlib as mpl\n",
    "import matplotlib.pyplot as plt\n",
    "import matplotlib.pylab as pylab\n",
    "import seaborn as sns\n",
    "\n",
    "#set visual parameters\n",
    "%matplotlib inline\n",
    "mpl.style.use('ggplot')\n",
    "sns.set_style('white')\n",
    "pylab.rcParams['figure.figsize'] = 16,12"
   ]
  },
  {
   "cell_type": "markdown",
   "metadata": {},
   "source": [
    "LOAD DATA\n",
    "--"
   ]
  },
  {
   "cell_type": "code",
   "execution_count": 4,
   "metadata": {},
   "outputs": [
    {
     "data": {
      "text/html": [
       "<div>\n",
       "<style scoped>\n",
       "    .dataframe tbody tr th:only-of-type {\n",
       "        vertical-align: middle;\n",
       "    }\n",
       "\n",
       "    .dataframe tbody tr th {\n",
       "        vertical-align: top;\n",
       "    }\n",
       "\n",
       "    .dataframe thead th {\n",
       "        text-align: right;\n",
       "    }\n",
       "</style>\n",
       "<table border=\"1\" class=\"dataframe\">\n",
       "  <thead>\n",
       "    <tr style=\"text-align: right;\">\n",
       "      <th></th>\n",
       "      <th>Id</th>\n",
       "      <th>MSSubClass</th>\n",
       "      <th>MSZoning</th>\n",
       "      <th>LotFrontage</th>\n",
       "      <th>LotArea</th>\n",
       "      <th>Street</th>\n",
       "      <th>Alley</th>\n",
       "      <th>LotShape</th>\n",
       "      <th>LandContour</th>\n",
       "      <th>Utilities</th>\n",
       "      <th>...</th>\n",
       "      <th>PoolArea</th>\n",
       "      <th>PoolQC</th>\n",
       "      <th>Fence</th>\n",
       "      <th>MiscFeature</th>\n",
       "      <th>MiscVal</th>\n",
       "      <th>MoSold</th>\n",
       "      <th>YrSold</th>\n",
       "      <th>SaleType</th>\n",
       "      <th>SaleCondition</th>\n",
       "      <th>SalePrice</th>\n",
       "    </tr>\n",
       "  </thead>\n",
       "  <tbody>\n",
       "    <tr>\n",
       "      <th>94</th>\n",
       "      <td>95</td>\n",
       "      <td>60</td>\n",
       "      <td>RL</td>\n",
       "      <td>69.0</td>\n",
       "      <td>9337</td>\n",
       "      <td>Pave</td>\n",
       "      <td>NaN</td>\n",
       "      <td>IR1</td>\n",
       "      <td>Lvl</td>\n",
       "      <td>AllPub</td>\n",
       "      <td>...</td>\n",
       "      <td>0</td>\n",
       "      <td>NaN</td>\n",
       "      <td>NaN</td>\n",
       "      <td>NaN</td>\n",
       "      <td>0</td>\n",
       "      <td>5</td>\n",
       "      <td>2007</td>\n",
       "      <td>WD</td>\n",
       "      <td>Normal</td>\n",
       "      <td>204750</td>\n",
       "    </tr>\n",
       "    <tr>\n",
       "      <th>1106</th>\n",
       "      <td>1107</td>\n",
       "      <td>20</td>\n",
       "      <td>RL</td>\n",
       "      <td>114.0</td>\n",
       "      <td>10357</td>\n",
       "      <td>Pave</td>\n",
       "      <td>NaN</td>\n",
       "      <td>IR1</td>\n",
       "      <td>Lvl</td>\n",
       "      <td>AllPub</td>\n",
       "      <td>...</td>\n",
       "      <td>0</td>\n",
       "      <td>NaN</td>\n",
       "      <td>NaN</td>\n",
       "      <td>NaN</td>\n",
       "      <td>0</td>\n",
       "      <td>5</td>\n",
       "      <td>2007</td>\n",
       "      <td>WD</td>\n",
       "      <td>Normal</td>\n",
       "      <td>179900</td>\n",
       "    </tr>\n",
       "    <tr>\n",
       "      <th>1444</th>\n",
       "      <td>1445</td>\n",
       "      <td>20</td>\n",
       "      <td>RL</td>\n",
       "      <td>63.0</td>\n",
       "      <td>8500</td>\n",
       "      <td>Pave</td>\n",
       "      <td>NaN</td>\n",
       "      <td>Reg</td>\n",
       "      <td>Lvl</td>\n",
       "      <td>AllPub</td>\n",
       "      <td>...</td>\n",
       "      <td>0</td>\n",
       "      <td>NaN</td>\n",
       "      <td>NaN</td>\n",
       "      <td>NaN</td>\n",
       "      <td>0</td>\n",
       "      <td>11</td>\n",
       "      <td>2007</td>\n",
       "      <td>WD</td>\n",
       "      <td>Normal</td>\n",
       "      <td>179600</td>\n",
       "    </tr>\n",
       "    <tr>\n",
       "      <th>199</th>\n",
       "      <td>200</td>\n",
       "      <td>20</td>\n",
       "      <td>RL</td>\n",
       "      <td>76.0</td>\n",
       "      <td>9591</td>\n",
       "      <td>Pave</td>\n",
       "      <td>NaN</td>\n",
       "      <td>Reg</td>\n",
       "      <td>Lvl</td>\n",
       "      <td>AllPub</td>\n",
       "      <td>...</td>\n",
       "      <td>0</td>\n",
       "      <td>NaN</td>\n",
       "      <td>NaN</td>\n",
       "      <td>NaN</td>\n",
       "      <td>0</td>\n",
       "      <td>1</td>\n",
       "      <td>2009</td>\n",
       "      <td>WD</td>\n",
       "      <td>Normal</td>\n",
       "      <td>274900</td>\n",
       "    </tr>\n",
       "    <tr>\n",
       "      <th>1221</th>\n",
       "      <td>1222</td>\n",
       "      <td>20</td>\n",
       "      <td>RL</td>\n",
       "      <td>55.0</td>\n",
       "      <td>8250</td>\n",
       "      <td>Pave</td>\n",
       "      <td>NaN</td>\n",
       "      <td>Reg</td>\n",
       "      <td>Lvl</td>\n",
       "      <td>AllPub</td>\n",
       "      <td>...</td>\n",
       "      <td>0</td>\n",
       "      <td>NaN</td>\n",
       "      <td>NaN</td>\n",
       "      <td>NaN</td>\n",
       "      <td>0</td>\n",
       "      <td>8</td>\n",
       "      <td>2008</td>\n",
       "      <td>WD</td>\n",
       "      <td>Normal</td>\n",
       "      <td>134000</td>\n",
       "    </tr>\n",
       "  </tbody>\n",
       "</table>\n",
       "<p>5 rows × 81 columns</p>\n",
       "</div>"
      ],
      "text/plain": [
       "        Id  MSSubClass MSZoning  LotFrontage  LotArea Street Alley LotShape  \\\n",
       "94      95          60       RL         69.0     9337   Pave   NaN      IR1   \n",
       "1106  1107          20       RL        114.0    10357   Pave   NaN      IR1   \n",
       "1444  1445          20       RL         63.0     8500   Pave   NaN      Reg   \n",
       "199    200          20       RL         76.0     9591   Pave   NaN      Reg   \n",
       "1221  1222          20       RL         55.0     8250   Pave   NaN      Reg   \n",
       "\n",
       "     LandContour Utilities    ...     PoolArea PoolQC Fence MiscFeature  \\\n",
       "94           Lvl    AllPub    ...            0    NaN   NaN         NaN   \n",
       "1106         Lvl    AllPub    ...            0    NaN   NaN         NaN   \n",
       "1444         Lvl    AllPub    ...            0    NaN   NaN         NaN   \n",
       "199          Lvl    AllPub    ...            0    NaN   NaN         NaN   \n",
       "1221         Lvl    AllPub    ...            0    NaN   NaN         NaN   \n",
       "\n",
       "     MiscVal MoSold YrSold  SaleType  SaleCondition  SalePrice  \n",
       "94         0      5   2007        WD         Normal     204750  \n",
       "1106       0      5   2007        WD         Normal     179900  \n",
       "1444       0     11   2007        WD         Normal     179600  \n",
       "199        0      1   2009        WD         Normal     274900  \n",
       "1221       0      8   2008        WD         Normal     134000  \n",
       "\n",
       "[5 rows x 81 columns]"
      ]
     },
     "execution_count": 4,
     "metadata": {},
     "output_type": "execute_result"
    }
   ],
   "source": [
    "#import data\n",
    "train_data = pd.read_csv(\"C:/Users/kpunyakoti/Desktop/Data Science/Kaggle/Housing Prices/Source Data files/train.csv\")\n",
    "test_data = pd.read_csv(\"C:/Users/kpunyakoti/Desktop/Data Science/Kaggle/Housing Prices/Source Data files/test.csv\")\n",
    "\n",
    "play_data = train_data.copy() #make copy of training data to play with\n",
    "cleaning_data = [play_data, test_data] #pass both data sets to clean everything at once\n",
    "\n",
    "#print(test_data.info())\n",
    "train_data.sample(5)"
   ]
  },
  {
   "cell_type": "markdown",
   "metadata": {},
   "source": [
    "4 Cs of DATA CLEANING: Correcting, Completing, Creating and Converting\n",
    "---"
   ]
  },
  {
   "cell_type": "code",
   "execution_count": 5,
   "metadata": {
    "scrolled": false
   },
   "outputs": [
    {
     "name": "stdout",
     "output_type": "stream",
     "text": [
      "Train data with null values:\n",
      " Id                  0\n",
      "MSSubClass          0\n",
      "MSZoning            0\n",
      "LotFrontage       259\n",
      "LotArea             0\n",
      "Street              0\n",
      "Alley            1369\n",
      "LotShape            0\n",
      "LandContour         0\n",
      "Utilities           0\n",
      "LotConfig           0\n",
      "LandSlope           0\n",
      "Neighborhood        0\n",
      "Condition1          0\n",
      "Condition2          0\n",
      "BldgType            0\n",
      "HouseStyle          0\n",
      "OverallQual         0\n",
      "OverallCond         0\n",
      "YearBuilt           0\n",
      "YearRemodAdd        0\n",
      "RoofStyle           0\n",
      "RoofMatl            0\n",
      "Exterior1st         0\n",
      "Exterior2nd         0\n",
      "MasVnrType          8\n",
      "MasVnrArea          8\n",
      "ExterQual           0\n",
      "ExterCond           0\n",
      "Foundation          0\n",
      "                 ... \n",
      "BedroomAbvGr        0\n",
      "KitchenAbvGr        0\n",
      "KitchenQual         0\n",
      "TotRmsAbvGrd        0\n",
      "Functional          0\n",
      "Fireplaces          0\n",
      "FireplaceQu       690\n",
      "GarageType         81\n",
      "GarageYrBlt        81\n",
      "GarageFinish       81\n",
      "GarageCars          0\n",
      "GarageArea          0\n",
      "GarageQual         81\n",
      "GarageCond         81\n",
      "PavedDrive          0\n",
      "WoodDeckSF          0\n",
      "OpenPorchSF         0\n",
      "EnclosedPorch       0\n",
      "3SsnPorch           0\n",
      "ScreenPorch         0\n",
      "PoolArea            0\n",
      "PoolQC           1453\n",
      "Fence            1179\n",
      "MiscFeature      1406\n",
      "MiscVal             0\n",
      "MoSold              0\n",
      "YrSold              0\n",
      "SaleType            0\n",
      "SaleCondition       0\n",
      "SalePrice           0\n",
      "Length: 81, dtype: int64\n",
      "--------------------\n",
      "Test data with null values:\n",
      " Id                  0\n",
      "MSSubClass          0\n",
      "MSZoning            4\n",
      "LotFrontage       227\n",
      "LotArea             0\n",
      "Street              0\n",
      "Alley            1352\n",
      "LotShape            0\n",
      "LandContour         0\n",
      "Utilities           2\n",
      "LotConfig           0\n",
      "LandSlope           0\n",
      "Neighborhood        0\n",
      "Condition1          0\n",
      "Condition2          0\n",
      "BldgType            0\n",
      "HouseStyle          0\n",
      "OverallQual         0\n",
      "OverallCond         0\n",
      "YearBuilt           0\n",
      "YearRemodAdd        0\n",
      "RoofStyle           0\n",
      "RoofMatl            0\n",
      "Exterior1st         1\n",
      "Exterior2nd         1\n",
      "MasVnrType         16\n",
      "MasVnrArea         15\n",
      "ExterQual           0\n",
      "ExterCond           0\n",
      "Foundation          0\n",
      "                 ... \n",
      "HalfBath            0\n",
      "BedroomAbvGr        0\n",
      "KitchenAbvGr        0\n",
      "KitchenQual         1\n",
      "TotRmsAbvGrd        0\n",
      "Functional          2\n",
      "Fireplaces          0\n",
      "FireplaceQu       730\n",
      "GarageType         76\n",
      "GarageYrBlt        78\n",
      "GarageFinish       78\n",
      "GarageCars          1\n",
      "GarageArea          1\n",
      "GarageQual         78\n",
      "GarageCond         78\n",
      "PavedDrive          0\n",
      "WoodDeckSF          0\n",
      "OpenPorchSF         0\n",
      "EnclosedPorch       0\n",
      "3SsnPorch           0\n",
      "ScreenPorch         0\n",
      "PoolArea            0\n",
      "PoolQC           1456\n",
      "Fence            1169\n",
      "MiscFeature      1408\n",
      "MiscVal             0\n",
      "MoSold              0\n",
      "YrSold              0\n",
      "SaleType            1\n",
      "SaleCondition       0\n",
      "Length: 80, dtype: int64\n"
     ]
    }
   ],
   "source": [
    "#check for null values\n",
    "print('Train data with null values:\\n', play_data.isnull().sum())\n",
    "print(\"-\"*20)\n",
    "print('Test data with null values:\\n', test_data.isnull().sum())"
   ]
  },
  {
   "cell_type": "code",
   "execution_count": 6,
   "metadata": {},
   "outputs": [
    {
     "name": "stdout",
     "output_type": "stream",
     "text": [
      "There are 43 categorical variables\n",
      "(1460, 81)\n",
      "(1459, 80)\n"
     ]
    }
   ],
   "source": [
    "# finding categorical variables\n",
    "categorical = [var for var in play_data.columns if play_data[var].dtype=='O']\n",
    "print('There are {} categorical variables'.format(len(categorical)))\n",
    "print(play_data.shape)\n",
    "print(test_data.shape)"
   ]
  },
  {
   "cell_type": "markdown",
   "metadata": {},
   "source": [
    "Treating Outliers\n",
    "--"
   ]
  },
  {
   "cell_type": "code",
   "execution_count": 7,
   "metadata": {},
   "outputs": [],
   "source": [
    "#impute for Garage Year Built less than Year Built - total 9 such items in both data sets #part of feature engineerinig\n",
    "for data in cleaning_data:\n",
    "    data.loc[((data['GarageYrBlt'] > 0) & ((data['GarageYrBlt']-data['YearBuilt']) < 0)),'GarageYrBlt'] = data['YearBuilt']"
   ]
  },
  {
   "cell_type": "code",
   "execution_count": 8,
   "metadata": {},
   "outputs": [],
   "source": [
    "#outliers for GrLivArea\n",
    "cond2 = ((play_data.Id == 524) | (play_data.Id == 1299))\n",
    "play_data.loc[cond2,'SalePrice'] = 611657 #imputing with max saleprice for Partial SaleType\n",
    "#however, in one of the kernel's these records were dropped\n",
    "#play_data = play_data.drop(play_data[(play_data['GrLivArea']>4000) & (play_data['SalePrice']<300000)].index)\n",
    "#play_data.drop(play_data[play_data.Id == 1299].index, inplace=True)  #outliers for GrLivArea"
   ]
  },
  {
   "cell_type": "code",
   "execution_count": 9,
   "metadata": {},
   "outputs": [],
   "source": [
    "#impute for LotArea with max values for SalePriceBins - proved to be not worth\n",
    "#play_data.loc[(play_data.Id == 314),'LotArea'] = 27650 #imputing with max LotArea for GrLivAreaBin\n",
    "#play_data.loc[(play_data.Id == 336),'LotArea'] = 16669 #imputing with max LotArea for GrLivAreaBin\n",
    "#play_data.loc[(play_data.Id == 250),'LotArea'] = 27650 #imputing with max LotArea for SalePriceBin\n",
    "#play_data.loc[(play_data.Id == 707),'LotArea'] = 25350 #imputing with mean of LotArea for SalePriceBin and GrLivAreaBin"
   ]
  },
  {
   "cell_type": "markdown",
   "metadata": {},
   "source": [
    "Treating Missing Values\n",
    "--"
   ]
  },
  {
   "cell_type": "code",
   "execution_count": 10,
   "metadata": {},
   "outputs": [],
   "source": [
    "#FILL NAs with No entities\n",
    "#None Columns:\n",
    "none_cols = ['BsmtQual','BsmtCond','BsmtExposure','BsmtFinType1','BsmtFinType2','FireplaceQu','GarageType','GarageFinish',\n",
    "           'GarageQual','GarageCond','PoolQC','Fence','Alley','MiscFeature','MasVnrType', 'MiscFeature']\n",
    "for x in none_cols:\n",
    "    for data in cleaning_data:\n",
    "        data[x].fillna('None', inplace = True)\n",
    "#mode columns\n",
    "mode_cols = ['Exterior1st','Exterior2nd','SaleType','KitchenQual','Utilities','Functional','Electrical']\n",
    "for y in mode_cols:\n",
    "    for data in cleaning_data:\n",
    "        data[y].fillna(data[y].mode()[0], inplace = True)\n",
    "#zero columns\n",
    "zero_cols = ['MasVnrArea','TotalBsmtSF','GarageYrBlt','GarageCars','GarageArea','BsmtFullBath','BsmtHalfBath','BsmtFinSF1',\n",
    "           'BsmtFinSF2','BsmtUnfSF']\n",
    "for z in zero_cols:\n",
    "    for data in cleaning_data:\n",
    "        data[z].fillna(0, inplace=True)"
   ]
  },
  {
   "cell_type": "code",
   "execution_count": 11,
   "metadata": {},
   "outputs": [],
   "source": [
    "#BsmtExposure-one row is marked NA(nobasement) where we have values for Basement:row-949-replace the value with mode which 'No'\n",
    "cond = (play_data.Id == 949)\n",
    "play_data.loc[cond,'BsmtExposure'] = 'No'\n",
    "\n",
    "#BsmtFinType2-one row marked NA(nobasement) where we have values for Basement:row-333-replace the value with mode which is 'unf'\n",
    "cond2 = (play_data.Id == 333)\n",
    "play_data.loc[cond2, 'BsmtFinType2'] = 'Unf'"
   ]
  },
  {
   "cell_type": "code",
   "execution_count": 12,
   "metadata": {},
   "outputs": [],
   "source": [
    "# Imputing LotFrontage with the median (middle) value\n",
    "for data in cleaning_data:\n",
    "    data['LotFrontage'] = data.groupby('Neighborhood')['LotFrontage'].apply(lambda x: x.fillna(x.median()))"
   ]
  },
  {
   "cell_type": "code",
   "execution_count": 13,
   "metadata": {},
   "outputs": [],
   "source": [
    "#MSZoning - 4NAs -  impute using MSSubClass: where 20-MSz is RL, for 30-RM, 70-RM\n",
    "cond1 = ((test_data['MSZoning'].isnull()==True) & (str(test_data['MSSubClass']) == '20'))\n",
    "test_data.loc[cond1,'MSZoning'] = 'RL'\n",
    "cond2 = ((test_data['MSZoning'].isnull()==True) & (str(test_data['MSSubClass']) == '30'))\n",
    "test_data.loc[cond2,'MSZoning'] = 'RM'\n",
    "cond3 = ((test_data['MSZoning'].isnull()==True) & (str(test_data['MSSubClass']) == '70'))\n",
    "test_data.loc[cond3,'MSZoning'] = 'RM'"
   ]
  },
  {
   "cell_type": "markdown",
   "metadata": {},
   "source": [
    "Feature Engineering\n",
    "--"
   ]
  },
  {
   "cell_type": "code",
   "execution_count": 14,
   "metadata": {},
   "outputs": [],
   "source": [
    "#Create new column Duplex\n",
    "#for data in cleaning_data:\n",
    "#    data.loc[(data['2ndFlrSF']==0),'Duplex'] = 'N'\n",
    " #   data.loc[(data['2ndFlrSF']>0),'Duplex'] = 'Y'\n",
    "    #data.loc[((data['Foundation']=='Wood')|(data['Foundation']=='Slab')|(data['Foundation']=='Stone')),'Foundation'] = 'Other'"
   ]
  },
  {
   "cell_type": "code",
   "execution_count": 15,
   "metadata": {},
   "outputs": [],
   "source": [
    "#Create Bins\n",
    "for data in cleaning_data:\n",
    "    data['TotalSF'] = data['TotalBsmtSF']+data['GrLivArea']\n",
    "    data['TotalPorchSF'] = data['EnclosedPorch']+data['OpenPorchSF']+data['3SsnPorch']+data['ScreenPorch']"
   ]
  },
  {
   "cell_type": "markdown",
   "metadata": {},
   "source": [
    "Column Drop\n",
    "--"
   ]
  },
  {
   "cell_type": "code",
   "execution_count": 16,
   "metadata": {},
   "outputs": [],
   "source": [
    "# DROPPING COLUMSN with more than 97% same values\n",
    "\n",
    "drop_cols = ['Street','Utilities','Condition2', 'RoofMatl', 'Heating', 'PoolQC']   #\n",
    "play_data.drop(drop_cols, axis=1, inplace=True)\n",
    "test_data.drop(drop_cols, axis=1, inplace=True)"
   ]
  },
  {
   "cell_type": "code",
   "execution_count": 17,
   "metadata": {},
   "outputs": [
    {
     "name": "stdout",
     "output_type": "stream",
     "text": [
      "(1460, 77)\n",
      "(1459, 76)\n"
     ]
    }
   ],
   "source": [
    "print(play_data.shape)\n",
    "print(test_data.shape)"
   ]
  },
  {
   "cell_type": "code",
   "execution_count": 18,
   "metadata": {},
   "outputs": [],
   "source": [
    "#Export Cleaned training and test datasets - Phase 1 export [After datatype conversion and null treatment]\n",
    "play_data.to_csv(\"C:/Users/kpunyakoti/Desktop/Data Science/Kaggle/Housing Prices/Source Data files/clean_new_train_data.csv\", index=False)\n",
    "test_data.to_csv(\"C:/Users/kpunyakoti/Desktop/Data Science/Kaggle/Housing Prices/Source Data files/clean_new_test_data.csv\", index=False)"
   ]
  },
  {
   "cell_type": "markdown",
   "metadata": {},
   "source": [
    "Feature Scaling\n",
    "--\n",
    "\n"
   ]
  },
  {
   "cell_type": "code",
   "execution_count": null,
   "metadata": {},
   "outputs": [],
   "source": []
  }
 ],
 "metadata": {
  "kernelspec": {
   "display_name": "Python 3",
   "language": "python",
   "name": "python3"
  },
  "language_info": {
   "codemirror_mode": {
    "name": "ipython",
    "version": 3
   },
   "file_extension": ".py",
   "mimetype": "text/x-python",
   "name": "python",
   "nbconvert_exporter": "python",
   "pygments_lexer": "ipython3",
   "version": "3.7.4"
  }
 },
 "nbformat": 4,
 "nbformat_minor": 2
}
