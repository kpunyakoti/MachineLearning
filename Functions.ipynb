{
 "cells": [
  {
   "cell_type": "markdown",
   "metadata": {},
   "source": [
    "**INTRO - Getting files**"
   ]
  },
  {
   "cell_type": "code",
   "execution_count": null,
   "metadata": {},
   "outputs": [],
   "source": [
    "#BASIC\n",
    "import pandas as pd\n",
    "import numpy as np\n",
    "\n",
    "import scipy as sp\n",
    "import sklearn as sk\n",
    "from scipy import stats\n",
    "from scipy.stats import norm\n",
    "\n",
    "import random\n",
    "import time\n",
    "\n",
    "import warnings\n",
    "warnings.filterwarnings('ignore')\n",
    "from subprocess import check_output"
   ]
  },
  {
   "cell_type": "code",
   "execution_count": null,
   "metadata": {},
   "outputs": [],
   "source": [
    "#import data\n",
    "PATH1 = \"C:/Users/kpunyakoti/Desktop/Data Science/Kaggle/Telco Customer Churn/\"   #where you read the files from\n",
    "#PATH2 = \"C:/Users/kpunyakoti/Desktop/Data Science/Projects/LO Metrics/Submissions/\"   #where you export the files to\n",
    "\n",
    "train = pd.read_csv(f'{PATH1}Telco.csv')\n",
    "#test = pd.read_csv(f'{PATH1}test.csv')\n",
    "train.head()"
   ]
  },
  {
   "cell_type": "code",
   "execution_count": null,
   "metadata": {},
   "outputs": [],
   "source": [
    "# calculating percentile funtion\n",
    "def getpercentile(x, i):\n",
    "    for a in range(1,11):\n",
    "            a = a/10\n",
    "            b = i+a\n",
    "            c =np.percentile(x, b)\n",
    "            print(b,\"  \",c)\n",
    "\n",
    "#eg:    getpercentile(play_data.GrLivArea, 99)"
   ]
  },
  {
   "cell_type": "code",
   "execution_count": 9,
   "metadata": {},
   "outputs": [],
   "source": [
    "def rmse(predictions, targets):\n",
    "    return np.sqrt(((predictions - targets) ** 2).mean())\n",
    "\n",
    "def rmspe(y, yhat):\n",
    "    return np.sqrt(np.mean((yhat/y-1) ** 2))\n",
    "\n",
    "def smape(y, yhat):\n",
    "    return 100 * np.mean(2 * np.abs(y - yhat)/(np.abs(y) + np.abs(yhat)))\n"
   ]
  },
  {
   "cell_type": "code",
   "execution_count": 8,
   "metadata": {},
   "outputs": [
    {
     "data": {
      "text/plain": [
       "2.273030282830976"
      ]
     },
     "execution_count": 8,
     "metadata": {},
     "output_type": "execute_result"
    }
   ],
   "source": [
    "import numpy as np\n",
    "preds = [1, 3,4, 8,2, 1]\n",
    "actuals = [3, 2, 1, 5, 4, 3]\n",
    "preds = np.array(preds)\n",
    "actuals = np.array(actuals)\n",
    "\n",
    "\n",
    "np.sqrt(((preds-actuals) ** 2).mean())"
   ]
  },
  {
   "cell_type": "code",
   "execution_count": 10,
   "metadata": {},
   "outputs": [
    {
     "data": {
      "text/plain": [
       "2.273030282830976"
      ]
     },
     "execution_count": 10,
     "metadata": {},
     "output_type": "execute_result"
    }
   ],
   "source": [
    "rmse(preds, actuals)"
   ]
  },
  {
   "cell_type": "code",
   "execution_count": 11,
   "metadata": {},
   "outputs": [],
   "source": [
    "import numpy as np\n",
    "\n",
    "def grad_desc(x, y, learning_rate, steps):\n",
    "    m_curr = b_curr = 0\n",
    "    n = len(x)\n",
    "    lr = float(learning_rate)\n",
    "    period = 10\n",
    "    steps_per_period = steps/period\n",
    "    \n",
    "    for period in range(0, period):\n",
    "        for i in range(int(steps_per_period)):\n",
    "            y_pred = m_curr*x + b_curr\n",
    "            cost = (1/n) * sum([val**2 for val in (y-y_pred)])  #cost formula\n",
    "            md = -(2/n)*sum(x*(y-y_pred))     #partial derivative for m\n",
    "            bd = -(2/n)*sum(y-y_pred)       #partial derivative for b\n",
    "            m_curr = m_curr - lr * md\n",
    "            b_curr = b_curr - lr * bd\n",
    "        print (\"m: {}, b: {}, cost: {}, period: {}\".format(m_curr, b_curr, cost, period))"
   ]
  },
  {
   "cell_type": "code",
   "execution_count": 12,
   "metadata": {},
   "outputs": [],
   "source": [
    "a = np.array([1,2,3,4,5])\n",
    "b = np.array([4,6,8,10,12])"
   ]
  },
  {
   "cell_type": "code",
   "execution_count": 13,
   "metadata": {
    "scrolled": false
   },
   "outputs": [
    {
     "name": "stdout",
     "output_type": "stream",
     "text": [
      "m: 2.031444234178423, b: 1.8861301555029009, cost: 0.002492191397601052, period: 0\n",
      "m: 2.002673057287663, b: 1.9903494020379062, cost: 1.790764173723537e-05, period: 1\n",
      "m: 2.0002265939716173, b: 1.9991819238640958, cost: 1.28681904990723e-07, period: 2\n",
      "m: 2.0000192082541757, b: 1.9999306521076796, cost: 9.246908618759554e-10, period: 3\n",
      "m: 2.0000016282738047, b: 1.9999941214149177, cost: 6.644704162747925e-12, period: 4\n",
      "m: 2.0000001380279304, b: 1.999999501675373, cost: 4.7747950491675193e-14, period: 5\n",
      "m: 2.0000000117005565, b: 1.999999957757278, cost: 3.4311034995790175e-16, period: 6\n",
      "m: 2.0000000009918493, b: 1.9999999964191058, cost: 2.4655461030204144e-18, period: 7\n",
      "m: 2.000000000084079, b: 1.99999999969645, cost: 1.7717049806907714e-20, period: 8\n",
      "m: 2.000000000007127, b: 1.9999999999742686, cost: 1.273127996160326e-22, period: 9\n"
     ]
    }
   ],
   "source": [
    "grad_desc(a,b, 0.08, 900)"
   ]
  },
  {
   "cell_type": "code",
   "execution_count": null,
   "metadata": {},
   "outputs": [],
   "source": [
    "math = np.array([92,56,88,70,80,49,65,35,66,67])\n",
    "cs = np.array([98,68,81,80,83,52,66,30,68,73])"
   ]
  },
  {
   "cell_type": "code",
   "execution_count": null,
   "metadata": {
    "scrolled": true
   },
   "outputs": [],
   "source": [
    "grad_desc(math,cs,0.00027, 1000)"
   ]
  },
  {
   "cell_type": "code",
   "execution_count": 1,
   "metadata": {},
   "outputs": [],
   "source": [
    "#RMSE function\n",
    "def rmse_cv(model):\n",
    "    rmse = np.sqrt(-cross_val_score(model, X_train, y_train, scoring=\"neg_mean_squared_error\", cv = 10))\n",
    "    return(rmse)"
   ]
  },
  {
   "cell_type": "markdown",
   "metadata": {},
   "source": [
    "## Summary Statistics"
   ]
  },
  {
   "cell_type": "code",
   "execution_count": 2,
   "metadata": {},
   "outputs": [],
   "source": [
    "#returns summary statistics in transposed dataframe for categorical columns\n",
    "def cat_stats(df):\n",
    "    cat_stats = pd.DataFrame(df.describe(include = [np.object]))\n",
    "    cat_stats = cat_stats.T\n",
    "    cat_stats['distribution'] = cat_stats['freq']/cat_stats['count']*100\n",
    "    #cat_stats.sort_values('distribution', ascending=False)\n",
    "    return cat_stats"
   ]
  },
  {
   "cell_type": "markdown",
   "metadata": {},
   "source": [
    "## Value Counts"
   ]
  },
  {
   "cell_type": "code",
   "execution_count": 5,
   "metadata": {},
   "outputs": [],
   "source": [
    "#returns top 10 categories value counts for categorical columns in a dataframe\n",
    "def valuecounts(df, cat_cols=None, normalize=False):\n",
    "    if cat_cols==None:\n",
    "        desc_df = pd.DataFrame(df.describe(include = [np.object]))\n",
    "        cat_cols = desc_df.columns.tolist()\n",
    "        print(\"List of Categorical Columns:\", cat_cols)\n",
    "    else:\n",
    "        cat_cols\n",
    "    for c in cat_cols:\n",
    "        print(c)\n",
    "        if normalize:\n",
    "            print(df[c].value_counts(normalize=True)[:10])\n",
    "        else:\n",
    "            print(df[c].value_counts()[:10])\n",
    "        print('\\n')"
   ]
  },
  {
   "cell_type": "markdown",
   "metadata": {},
   "source": [
    "## Null Ratios"
   ]
  },
  {
   "cell_type": "code",
   "execution_count": 4,
   "metadata": {},
   "outputs": [],
   "source": [
    "#Returns Missing data Ratios in dataframe\n",
    "def na_data(df):\n",
    "    play_data_na = (df.isnull().sum() / len(df)) * 100\n",
    "    play_data_na = play_data_na.drop(play_data_na[play_data_na == 0].index).sort_values(ascending=False)[:30]\n",
    "    missing_data = pd.DataFrame({'Missing Ratio' :play_data_na})\n",
    "    missing_data.head(20)\n",
    "    return missing_data"
   ]
  },
  {
   "cell_type": "markdown",
   "metadata": {},
   "source": [
    "This formula **$f(x) = x^2$** is an example."
   ]
  },
  {
   "cell_type": "markdown",
   "metadata": {},
   "source": [
    "## Techniques"
   ]
  },
  {
   "cell_type": "markdown",
   "metadata": {},
   "source": [
    "#### Strip String - Strip dollar sign"
   ]
  },
  {
   "cell_type": "code",
   "execution_count": 7,
   "metadata": {},
   "outputs": [],
   "source": [
    "''' blazing fast technique for removing $ sign from a dollar value string\n",
    "def remove_dollar(df, col):\n",
    "    np.fromstring(df[col].values.astype('|S7').tobytes().replace(b'$',b''), dtype='|S6')\n",
    "However the above technique not working\n",
    "'''\n",
    "##try the below method to strip $ from the string - this next best fast method\n",
    "df[col] =  [x.strip('$') for x in df[col]]\n",
    "\n",
    "## another method when you have multiple bad characters to be replaces\n",
    "df1['Visit_Revenue'] = df1['Visit_Revenue'].replace('[\\$,]', '', regex=True).astype(float)\n",
    "df1['Revenue'] = df1['Revenue'].replace(',', '', regex=True).astype(float)"
   ]
  },
  {
   "cell_type": "markdown",
   "metadata": {},
   "source": [
    "**specifying format in pd.to_datetime is faster than without specifying format.**<br>\n",
    "on 1.4mil records dataset:<br>\n",
    "    %timeit pd.to_datetime(df1.date])<br>\n",
    "2min 30s ± 750 ms per loop (mean ± std. dev. of 7 runs, 1 loop each)<br>\n",
    "    %timeit pd.to_datetime(df1.date, format=\"%m/%d/%Y)<br>\n",
    "3.78 s ± 121 ms per loop (mean ± std. dev. of 7 runs, 1 loop each)<br>\n",
    "**Thats a huge difference**"
   ]
  },
  {
   "cell_type": "code",
   "execution_count": null,
   "metadata": {},
   "outputs": [],
   "source": [
    "##stack and unstack to convert all columns\n",
    "df['COLUMN1'].str.decode(\"utf-8\")\n",
    "To do this for multiple columns you can select just the str columns:\n",
    "\n",
    "str_df = df.select_dtypes([np.object])\n",
    "convert all of them:\n",
    "\n",
    "str_df = str_df.stack().str.decode('utf-8').unstack()\n",
    "You can then swap out converted cols with the original df cols:\n",
    "/\n",
    "for col in str_df:\n",
    "    df[col] = str_df[col]"
   ]
  },
  {
   "cell_type": "markdown",
   "metadata": {},
   "source": [
    "## some jupyter tricks"
   ]
  },
  {
   "cell_type": "code",
   "execution_count": 18,
   "metadata": {},
   "outputs": [],
   "source": [
    "%matplotlib inline\n",
    "%config InlineBackend.figure_format = 'retina'\n",
    "\n",
    "import matplotlib as mpl\n",
    "import matplotlib.pyplot as plt\n",
    "import matplotlib.pylab as pylab\n",
    "import numpy as np\n",
    "\n",
    "mpl.style.use('ggplot')\n",
    "pylab.rcParams['figure.figsize'] = 10,6"
   ]
  },
  {
   "cell_type": "code",
   "execution_count": 19,
   "metadata": {},
   "outputs": [
    {
     "data": {
      "image/png": "[encoded data removed]",
      "text/plain": [
       "<Figure size 720x432 with 1 Axes>"
      ]
     },
     "metadata": {
      "image/png": {
       "height": 357,
       "width": 610
      }
     },
     "output_type": "display_data"
    }
   ],
   "source": [
    "x = np.linspace(0,1,300)\n",
    "for i in range(2,6,2):\n",
    "    plt.plot(x, np.sin(np.pi*x)*np.sin(2*i*np.pi*x))"
   ]
  },
  {
   "cell_type": "code",
   "execution_count": 21,
   "metadata": {},
   "outputs": [
    {
     "name": "stdout",
     "output_type": "stream",
     "text": [
      "Automatic pdb calling has been turned ON\n"
     ]
    }
   ],
   "source": [
    "%pdb \n",
    "#for debugging within notebook"
   ]
  },
  {
   "cell_type": "code",
   "execution_count": 24,
   "metadata": {},
   "outputs": [
    {
     "data": {
      "text/plain": [
       "5"
      ]
     },
     "execution_count": 24,
     "metadata": {},
     "output_type": "execute_result"
    }
   ],
   "source": [
    "n = 'hello'\n",
    "len(n)"
   ]
  },
  {
   "cell_type": "markdown",
   "metadata": {},
   "source": [
    "### Softmax Function"
   ]
  },
  {
   "cell_type": "code",
   "execution_count": 1,
   "metadata": {},
   "outputs": [],
   "source": [
    "import numpy as np\n",
    "\n",
    "def softmax(L):\n",
    "    expL = np.exp(L)\n",
    "    sumL = np.sum(expL)\n",
    "    S = [j/sumL for j in expL]\n",
    "    return S"
   ]
  },
  {
   "cell_type": "code",
   "execution_count": 2,
   "metadata": {},
   "outputs": [
    {
     "data": {
      "text/plain": [
       "[0.24472847105479764, 0.6652409557748219, 0.09003057317038046]"
      ]
     },
     "execution_count": 2,
     "metadata": {},
     "output_type": "execute_result"
    }
   ],
   "source": [
    "a = [1,2,0]\n",
    "\n",
    "b = softmax(a)\n",
    "b"
   ]
  },
  {
   "cell_type": "markdown",
   "metadata": {},
   "source": [
    "## Installing XGBoost"
   ]
  },
  {
   "cell_type": "markdown",
   "metadata": {},
   "source": [
    "**step 1:** Download appropriate XGBoost wheel from https://www.lfd.uci.edu/~gohlke/pythonlibs/<br>\n",
    "&emsp;&emsp;&emsp;&emsp;In my case, its **xgboost-0.90-cp37-cp37m-win32.whl** for python 3.7\n",
    "<br>**step 2:** from command prompt, navigate to the directory where the downloaded file is present\n",
    "<br>**step 3:** run the command \"pip install xgboost-0.90-cp37-cp37m-win32.whl\""
   ]
  },
  {
   "cell_type": "markdown",
   "metadata": {},
   "source": [
    "### Cros-entropy"
   ]
  },
  {
   "cell_type": "markdown",
   "metadata": {},
   "source": [
    "#### Short format"
   ]
  },
  {
   "cell_type": "code",
   "execution_count": 53,
   "metadata": {},
   "outputs": [],
   "source": [
    "def cr_short(Y, P):\n",
    "    z = [P[i] if (Y[i] == 1) else (1-P[i]) for i in range(0, len(Y))] \n",
    "    return -np.sum(np.log(z))"
   ]
  },
  {
   "cell_type": "code",
   "execution_count": 54,
   "metadata": {},
   "outputs": [],
   "source": [
    "def cr_formula(Y, P):\n",
    "    Y, P = np.float_(Y), np.float_(P)\n",
    "    return -np.sum(Y * np.log(P) + (1 - Y) * np.log(1 - P))"
   ]
  },
  {
   "cell_type": "markdown",
   "metadata": {},
   "source": [
    "#### Long format"
   ]
  },
  {
   "cell_type": "code",
   "execution_count": 55,
   "metadata": {},
   "outputs": [],
   "source": [
    "def cr_long(Y, P):\n",
    "    z=[]\n",
    "    for i in range(0, len(P)):\n",
    "        if Y[i] == 1:\n",
    "            z.append(P[i])\n",
    "        else:\n",
    "            P[i] = 1-P[i]\n",
    "            z.append(P[i])\n",
    "    lnz = np.log(z)\n",
    "    return -np.sum(lnz)"
   ]
  },
  {
   "cell_type": "code",
   "execution_count": 66,
   "metadata": {},
   "outputs": [
    {
     "name": "stdout",
     "output_type": "stream",
     "text": [
      " 4.8 \n",
      " 4.779523573132869 \n",
      " 4.779523573132869\n"
     ]
    }
   ],
   "source": [
    "y, p = [1,1,0,0], [.6, .2, .9, .3]\n",
    "\n",
    "cr_sh, cr_fo, cr_lo = cr_short(y,p), cr_formula(y,p), cr_long(y,p)\n",
    "\n",
    "print(\"\",np.round(cr_sh, 1),'\\n',cr_fo, '\\n',cr_lo)"
   ]
  },
  {
   "cell_type": "markdown",
   "metadata": {},
   "source": [
    "#### Error Function\n",
    "Error function is average of cross entropy"
   ]
  },
  {
   "cell_type": "code",
   "execution_count": 57,
   "metadata": {},
   "outputs": [],
   "source": [
    "def err_short(Y, P):\n",
    "    z = [P[i] if (Y[i] == 1) else (1-P[i]) for i in range(0, len(Y))] \n",
    "    return -np.sum(np.log(z))/len(Y)"
   ]
  },
  {
   "cell_type": "code",
   "execution_count": 58,
   "metadata": {},
   "outputs": [],
   "source": [
    "def err_formula(Y, P):\n",
    "    Y, P = np.float_(Y), np.float_(P)\n",
    "    return (-np.sum(Y * np.log(P) + (1 - Y) * np.log(1 - P)))/len(Y)"
   ]
  },
  {
   "cell_type": "code",
   "execution_count": 68,
   "metadata": {},
   "outputs": [
    {
     "name": "stdout",
     "output_type": "stream",
     "text": [
      " 1.2 \n",
      " 1.1948808932832173\n"
     ]
    }
   ],
   "source": [
    "y, p = [1,1,0,0], [.6, .2, .9, .3]\n",
    "err_sh, err_fo = err_short(y,p), err_formula(y,p)\n",
    "\n",
    "print(\"\",np.round(err_sh,1),'\\n',err_fo)"
   ]
  }
 ],
 "metadata": {
  "kernelspec": {
   "display_name": "Python 3",
   "language": "python",
   "name": "python3"
  },
  "language_info": {
   "codemirror_mode": {
    "name": "ipython",
    "version": 3
   },
   "file_extension": ".py",
   "mimetype": "text/x-python",
   "name": "python",
   "nbconvert_exporter": "python",
   "pygments_lexer": "ipython3",
   "version": "3.7.4"
  }
 },
 "nbformat": 4,
 "nbformat_minor": 2
}
